{
 "cells": [
  {
   "cell_type": "code",
   "execution_count": 8,
   "metadata": {},
   "outputs": [],
   "source": [
    "import os\n",
    "import django\n",
    "\n",
    "\n",
    "# Set up Django settings\n",
    "os.environ[\"DJANGO_SETTINGS_MODULE\"] = \"memoria.settings\"\n",
    "os.environ[\"DJANGO_ALLOW_ASYNC_UNSAFE\"] = \"true\"\n",
    "\n",
    "django.setup()\n",
    "\n",
    "# Now you can import your models and work with them\n",
    "from core.models import Noticia\n",
    "\n",
    "# Example: Query all objects\n",
    "noticia = Noticia.objects.get(pk=4)"
   ]
  },
  {
   "cell_type": "code",
   "execution_count": 3,
   "metadata": {},
   "outputs": [
    {
     "data": {
      "text/plain": [
       "'https://www.elpais.com.uy/informacion/sociedad/imm-inicio-investigacion-administrativa-por-presunta-guerra-de-agua-dentro-del-edificio-el-fin-de-ano-pasado'"
      ]
     },
     "execution_count": 3,
     "metadata": {},
     "output_type": "execute_result"
    }
   ],
   "source": [
    "noticia.enlace"
   ]
  },
  {
   "cell_type": "code",
   "execution_count": null,
   "metadata": {},
   "outputs": [],
   "source": [
    "from core.parse import *\n",
    "\n",
    "url = noticia.enlace\n",
    "\n",
    "headers = {\n",
    "    \"User-Agent\": \"Mozilla/5.0 (Windows NT 10.0; Win64; x64) \"\n",
    "    \"AppleWebKit/537.36 (KHTML, like Gecko) \"\n",
    "    \"Chrome/92.0.4515.107 Safari/537.36\",\n",
    "    \"Accept-Language\": \"en-US,en;q=0.9\",\n",
    "    \"Referer\": \"https://www.google.com/\",\n",
    "}\n",
    "\n",
    "response = requests.get(url, headers=headers)\n",
    "soup = BeautifulSoup(response.text, \"html.parser\")\n",
    "\n",
    "# Extract Open Graph meta tags\n",
    "og_title = soup.find(\"meta\", property=\"og:title\")\n",
    "og_image = soup.find(\"meta\", property=\"og:image\")\n",
    "\n",
    "title = None\n",
    "if og_title and og_title[\"content\"] not in BAD_TITLES:\n",
    "    title = og_title[\"content\"]\n"
   ]
  },
  {
   "cell_type": "code",
   "execution_count": 6,
   "metadata": {},
   "outputs": [
    {
     "data": {
      "text/plain": [
       "'https://imgs.elpais.com.uy/dims4/default/4a3167c/2147483647/strip/true/crop/5000x2431+0+451/resize/1440x700!/quality/90/?url=https%3A%2F%2Fel-pais-uruguay-production-web.s3.us-east-1.amazonaws.com%2Fbrightspot%2F70%2Fb7%2Fb038953e42c197b331c596a4bcd5%2Fnia6672.JPG'"
      ]
     },
     "execution_count": 6,
     "metadata": {},
     "output_type": "execute_result"
    }
   ],
   "source": [
    "og_image[\"content\"]"
   ]
  },
  {
   "cell_type": "code",
   "execution_count": 9,
   "metadata": {},
   "outputs": [
    {
     "data": {
      "text/plain": [
       "(9, {'core.Voto': 1, 'core.NoticiaEntidad': 7, 'core.Noticia': 1})"
      ]
     },
     "execution_count": 9,
     "metadata": {},
     "output_type": "execute_result"
    }
   ],
   "source": [
    "noticia.delete()"
   ]
  },
  {
   "cell_type": "code",
   "execution_count": null,
   "metadata": {},
   "outputs": [],
   "source": [
    "original_image = None\n",
    "# maybe url is encoded\n",
    "if og_image:\n",
    "    decoded_url = urllib.parse.unquote(og_image[\"content\"])\n",
    "    if decoded_url not in BAD_URLS:\n",
    "        og_image_parts = decoded_url.split(\"https\")\n",
    "        original_image = \"https\" + og_image_parts[-1]\n",
    "    # convert"
   ]
  },
  {
   "cell_type": "code",
   "execution_count": 4,
   "metadata": {},
   "outputs": [
    {
     "name": "stderr",
     "output_type": "stream",
     "text": [
      "Title: la diaria, Image: https://ladiaria.com.uy/static/meta/la-diaria-1000x1000.png\n"
     ]
    }
   ],
   "source": [
    "noticia.get_title_from_meta_tags()"
   ]
  },
  {
   "cell_type": "code",
   "execution_count": 30,
   "metadata": {},
   "outputs": [],
   "source": [
    "original_url = \"https://ladiaria.com.uy/colonia/articulo/2025/2/el-combate-al-macro-y-microtrafico-de-estupefacientes-conllevo-a-que-todos-los-demas-delitos-pudieran-bajar-segun-jefe-de-policia-de-colonia/\"\n"
   ]
  },
  {
   "cell_type": "code",
   "execution_count": 31,
   "metadata": {},
   "outputs": [],
   "source": [
    "from core.archive_ph import *"
   ]
  },
  {
   "cell_type": "code",
   "execution_count": null,
   "metadata": {},
   "outputs": [],
   "source": [
    "# Some minimal data; the archive service expects a \"url\" parameter.\n",
    "data = {\"url\": original_url, \"submitid\": \"1\"}\n",
    "response = requests.get(f\"https://archive.is/{original_url}\")\n"
   ]
  },
  {
   "cell_type": "code",
   "execution_count": 43,
   "metadata": {},
   "outputs": [
    {
     "data": {
      "text/plain": [
       "'\\n<!DOCTYPE html>\\n<html>\\n<head>\\n<meta http-equiv=\"Content-Type\" content=\"text/html;charset=utf-8\" />\\n<meta content=\"width=device-width, initial-scale=1, minimal-ui\" name=\"viewport\" />\\n<title>archive.is</title>\\n</head>\\n<!-- 190.133.149.0 @ AS6057 -->\\n<!-- archive.is -->\\n<!-- bvm1 -->\\n<!-- bvm1 -->\\n<!-- 47f56493e551459ad91fdee8f61435f3 -->\\n<!-- python-requests/2.32.3 -->\\n<!-- A18 -->\\n<body style=\"margin:0\">\\n <div lang=\"en-US\" style=\"overflow-x:visible;overflow-y:visible;color:rgb(0, 0, 0);-webkit-locale:&quot;en-US&quot;;opacity:1\">\\n  <div style=\"margin-bottom:0px;margin-left:0px;margin-right:0px;margin-top:0px;min-height:1367.48px;min-width:1024px;overflow-x:visible;overflow-y:visible;display:block;padding-bottom:0px;padding-left:0px;padding-right:0px;padding-top:0px\">\\n   <div style=\"color:rgb(64, 64, 64);font-family:&quot;Open Sans&quot;, Helvetica, Arial, sans-serif;font-size:15px;-webkit-font-smoothing:antialiased;display:block;letter-spacing:normal;line-height:1.5;margin-bottom:0px;margin-left:0px;margin-right:0px;margin-top:0px;padding-bottom:0px;padding-left:0px;padding-right:0px;padding-top:0px;position:relative;text-align:left;text-decoration-color:rgb(64, 64, 64);text-decoration-line:none;text-decoration-style:solid;-webkit-tap-highlight-color:rgba(246, 139, 31, 0.3);width:100%;z-index:999999999\">\\n    <div style=\"background-repeat:repeat;-webkit-background-clip:border-box;font-family:&quot;Open Sans&quot;, Helvetica, Arial, sans-serif;font-size:15px;font-stretch:100%;font-style:normal;font-variant-caps:normal;font-variant-east-asian:normal;font-variant-ligatures:normal;font-variant-numeric:normal;font-weight:400;background-attachment:scroll;background-clip:border-box;background-color:rgb(255, 255, 255);background-image:none;background-origin:padding-box;background-position-x:0%;background-position-y:0%;background-size:auto;border-bottom-color:rgb(64, 64, 64);border-bottom-style:none;border-bottom-width:0px;border-image-outset:0px;border-image-repeat:stretch;border-image-slice:100%;border-image-source:none;border-image-width:1;border-left-color:rgb(64, 64, 64);border-left-style:none;border-left-width:0px;border-right-color:rgb(64, 64, 64);border-right-style:none;border-right-width:0px;border-top-color:rgb(64, 64, 64);border-top-style:none;border-top-width:0px;display:block;line-height:22.5px;margin-bottom:0px;margin-left:0px;margin-right:0px;margin-top:0px;padding-bottom:0px;padding-left:0px;padding-right:0px;padding-top:0px;text-decoration-color:rgb(64, 64, 64);text-decoration-line:none;text-decoration-style:solid;vertical-align:baseline\">\\n\\n     <div style=\"font-family:&quot;Open Sans&quot;, Helvetica, Arial, sans-serif;font-size:15px;font-stretch:100%;font-style:normal;font-variant-caps:normal;font-variant-east-asian:normal;font-variant-ligatures:normal;font-variant-numeric:normal;font-weight:400;border-bottom-color:rgb(64, 64, 64);border-bottom-style:none;border-bottom-width:0px;border-image-outset:0px;border-image-repeat:stretch;border-image-slice:100%;border-image-source:none;border-image-width:1;border-left-color:rgb(64, 64, 64);border-left-style:none;border-left-width:0px;border-right-color:rgb(64, 64, 64);border-right-style:none;border-right-width:0px;border-top-color:rgb(64, 64, 64);border-top-style:none;border-top-width:0px;display:block;line-height:22.5px;margin-bottom:30px;margin-left:auto;margin-right:auto;margin-top:0px;padding-bottom:0px;padding-left:0px;padding-right:0px;padding-top:35px;text-decoration-color:rgb(64, 64, 64);text-decoration-line:none;text-decoration-style:solid;vertical-align:baseline;width:708px\">\\n      <span style=\"display:table\"> </span>\\n      <h1 style=\"color:rgb(64, 64, 64);font-family:&quot;Open Sans&quot;, Helvetica, Arial, sans-serif;font-size:60px;font-stretch:100%;font-style:normal;font-variant-caps:normal;font-variant-east-asian:normal;font-variant-ligatures:normal;font-variant-numeric:normal;font-weight:300;border-bottom-color:rgb(64, 64, 64);border-bottom-style:none;border-bottom-width:0px;border-image-outset:0px;border-image-repeat:stretch;border-image-slice:100%;border-image-source:none;border-image-width:1;border-left-color:rgb(64, 64, 64);border-left-style:none;border-left-width:0px;border-right-color:rgb(64, 64, 64);border-right-style:none;border-right-width:0px;border-top-color:rgb(64, 64, 64);border-top-style:none;border-top-width:0px;display:block;line-height:1.2;margin-block-end:0px;margin-block-start:0px;margin-bottom:0px;margin-inline-end:0px;margin-inline-start:0px;margin-left:0px;margin-right:0px;margin-top:0px;padding-bottom:0px;padding-left:0px;padding-right:0px;padding-top:0px;text-decoration-color:rgb(64, 64, 64);text-decoration-line:none;text-decoration-style:solid;vertical-align:baseline\">\\n       One more step\\n      </h1>\\n      <h2 style=\"color:rgb(153, 153, 153);font-family:&quot;Open Sans&quot;, Helvetica, Arial, sans-serif;font-size:30px;font-stretch:100%;font-style:normal;font-variant-caps:normal;font-variant-east-asian:normal;font-variant-ligatures:normal;font-variant-numeric:normal;font-weight:300;border-bottom-color:rgb(153, 153, 153);border-bottom-style:none;border-bottom-width:0px;border-image-outset:0px;border-image-repeat:stretch;border-image-slice:100%;border-image-source:none;border-image-width:1;border-left-color:rgb(153, 153, 153);border-left-style:none;border-left-width:0px;border-right-color:rgb(153, 153, 153);border-right-style:none;border-right-width:0px;border-top-color:rgb(153, 153, 153);border-top-style:none;border-top-width:0px;display:block;line-height:1.3;margin-block-end:0px;margin-block-start:0px;margin-bottom:0px;margin-inline-end:0px;margin-inline-start:0px;margin-left:0px;margin-right:0px;margin-top:0px;padding-bottom:0px;padding-left:0px;padding-right:0px;padding-top:0px;text-decoration-color:rgb(153, 153, 153);text-decoration-line:none;text-decoration-style:solid;vertical-align:baseline\">\\n       <span style=\"font-family:&quot;Open Sans&quot;, Helvetica, Arial, sans-serif;font-size:30px;font-stretch:100%;font-style:normal;font-variant-caps:normal;font-variant-east-asian:normal;font-variant-ligatures:normal;font-variant-numeric:normal;font-weight:300;border-bottom-color:rgb(153, 153, 153);border-bottom-style:none;border-bottom-width:0px;border-image-outset:0px;border-image-repeat:stretch;border-image-slice:100%;border-image-source:none;border-image-width:1;border-left-color:rgb(153, 153, 153);border-left-style:none;border-left-width:0px;border-right-color:rgb(153, 153, 153);border-right-style:none;border-right-width:0px;border-top-color:rgb(153, 153, 153);border-top-style:none;border-top-width:0px;line-height:39px;margin-bottom:0px;margin-left:0px;margin-right:0px;margin-top:0px;padding-bottom:0px;padding-left:0px;padding-right:0px;padding-top:0px;text-decoration-color:rgb(153, 153, 153);text-decoration-line:none;text-decoration-style:solid;vertical-align:baseline\">\\n        Please complete the security check to access\\n       </span>\\n       <span id=\"g-host\"></span>\\n      </h2>\\n      <span style=\"clear:both;display:table\"> </span>\\n     </div>\\n\\n\\n\\n     <div style=\"background-repeat:repeat;-webkit-background-clip:border-box;font-family:&quot;Open Sans&quot;, Helvetica, Arial, sans-serif;font-size:15px;font-stretch:100%;font-style:normal;font-variant-caps:normal;font-variant-east-asian:normal;font-variant-ligatures:normal;font-variant-numeric:normal;font-weight:400;background-attachment:scroll;background-clip:border-box;background-color:rgb(235, 235, 235);background-image:-webkit-linear-gradient(top, rgb(222, 222, 222) 0px, rgb(235, 235, 235) 3%, rgb(235, 235, 235) 97%, rgb(222, 222, 222) 100%);background-origin:padding-box;background-position-x:0%;background-position-y:0%;background-size:auto;border-bottom-color:rgb(64, 64, 64);border-bottom-style:none;border-bottom-width:0px;border-image-outset:0px;border-image-repeat:stretch;border-image-slice:100%;border-image-source:none;border-image-width:1;border-left-color:rgb(64, 64, 64);border-left-style:none;border-left-width:0px;border-right-color:rgb(64, 64, 64);border-right-style:none;border-right-width:0px;border-top-color:rgb(64, 64, 64);border-top-style:none;border-top-width:0px;display:block;line-height:22.5px;margin-bottom:0px;margin-left:0px;margin-right:0px;margin-top:30px;overflow-x:hidden;padding-bottom:60px;padding-left:0px;padding-right:0px;padding-top:60px;text-decoration-color:rgb(64, 64, 64);text-decoration-line:none;text-decoration-style:solid;vertical-align:baseline\">\\n      <span style=\"display:table\"> </span>\\n      <div style=\"font-family:&quot;Open Sans&quot;, Helvetica, Arial, sans-serif;font-size:15px;font-stretch:100%;font-style:normal;font-variant-caps:normal;font-variant-east-asian:normal;font-variant-ligatures:normal;font-variant-numeric:normal;font-weight:400;border-bottom-color:rgb(64, 64, 64);border-bottom-style:none;border-bottom-width:0px;border-image-outset:0px;border-image-repeat:stretch;border-image-slice:100%;border-image-source:none;border-image-width:1;border-left-color:rgb(64, 64, 64);border-left-style:none;border-left-width:0px;border-right-color:rgb(64, 64, 64);border-right-style:none;border-right-width:0px;border-top-color:rgb(64, 64, 64);border-top-style:none;border-top-width:0px;display:block;line-height:22.5px;margin-bottom:0px;margin-left:auto;margin-right:auto;margin-top:0px;padding-bottom:0px;padding-left:0px;padding-right:0px;padding-top:0px;text-decoration-color:rgb(64, 64, 64);text-decoration-line:none;text-decoration-style:solid;vertical-align:baseline;width:708px\">\\n       <span style=\"display:table\"> </span>\\n       <div style=\"font-family:&quot;Open Sans&quot;, Helvetica, Arial, sans-serif;font-size:15px;font-stretch:100%;font-style:normal;font-variant-caps:normal;font-variant-east-asian:normal;font-variant-ligatures:normal;font-variant-numeric:normal;font-weight:400;border-bottom-color:rgb(64, 64, 64);border-bottom-style:none;border-bottom-width:0px;border-image-outset:0px;border-image-repeat:stretch;border-image-slice:100%;border-image-source:none;border-image-width:1;border-left-color:rgb(64, 64, 64);border-left-style:none;border-left-width:0px;border-right-color:rgb(64, 64, 64);border-right-style:none;border-right-width:0px;border-top-color:rgb(64, 64, 64);border-top-style:none;border-top-width:0px;display:block;line-height:22.5px;list-style-image:none;list-style-position:outside;list-style-type:none;margin-bottom:0px;margin-left:0px;margin-right:0px;margin-top:0px;padding-bottom:0px;padding-left:0px;padding-right:0px;padding-top:0px;text-decoration-color:rgb(64, 64, 64);text-decoration-line:none;text-decoration-style:solid;vertical-align:baseline;width:100%\">\\n        <span style=\"display:table\"> </span>\\n        <div style=\"font-family:&quot;Open Sans&quot;, Helvetica, Arial, sans-serif;font-size:15px;font-stretch:100%;font-style:normal;font-variant-caps:normal;font-variant-east-asian:normal;font-variant-ligatures:normal;font-variant-numeric:normal;font-weight:400;border-bottom-color:rgb(64, 64, 64);border-bottom-style:none;border-bottom-width:0px;border-image-outset:0px;border-image-repeat:stretch;border-image-slice:100%;border-image-source:none;border-image-width:1;border-left-color:rgb(64, 64, 64);border-left-style:none;border-left-width:0px;border-right-color:rgb(64, 64, 64);border-right-style:none;border-right-width:0px;border-top-color:rgb(64, 64, 64);border-top-style:none;border-top-width:0px;box-sizing:border-box;clear:left;display:block;float:left;line-height:22.5px;margin-bottom:0px;margin-left:0px;margin-right:0px;margin-top:0px;padding-bottom:0px;padding-left:0px;padding-right:22.5px;padding-top:0px;text-decoration-color:rgb(64, 64, 64);text-decoration-line:none;text-decoration-style:solid;vertical-align:baseline;width:50%\">\\n         <div style=\"font-family:&quot;Open Sans&quot;, Helvetica, Arial, sans-serif;font-size:15px;font-stretch:100%;font-style:normal;font-variant-caps:normal;font-variant-east-asian:normal;font-variant-ligatures:normal;font-variant-numeric:normal;font-weight:400;background-color:rgb(255, 255, 255);border-bottom-color:rgb(64, 64, 64);border-bottom-left-radius:2px;border-bottom-right-radius:2px;border-bottom-style:none;border-bottom-width:0px;border-image-outset:0px;border-image-repeat:stretch;border-image-slice:100%;border-image-source:none;border-image-width:1;border-left-color:rgb(64, 64, 64);border-left-style:none;border-left-width:0px;border-right-color:rgb(64, 64, 64);border-right-style:none;border-right-width:0px;border-top-color:rgb(64, 64, 64);border-top-left-radius:2px;border-top-right-radius:2px;border-top-style:none;border-top-width:0px;display:block;line-height:22.5px;margin-bottom:0px;margin-left:0px;margin-right:0px;margin-top:0px;padding-bottom:15px;padding-left:15px;padding-right:15px;padding-top:15px;text-decoration-color:rgb(64, 64, 64);text-decoration-line:none;text-decoration-style:solid;vertical-align:baseline\">\\n          <div id=\"g-recaptcha\"></div>\\n         </div>\\n        </div>\\n        <div style=\"font-family:&quot;Open Sans&quot;, Helvetica, Arial, sans-serif;font-size:15px;font-stretch:100%;font-style:normal;font-variant-caps:normal;font-variant-east-asian:normal;font-variant-ligatures:normal;font-variant-numeric:normal;font-weight:400;border-bottom-color:rgb(64, 64, 64);border-bottom-style:none;border-bottom-width:0px;border-image-outset:0px;border-image-repeat:stretch;border-image-slice:100%;border-image-source:none;border-image-width:1;border-left-color:rgb(64, 64, 64);border-left-style:none;border-left-width:0px;border-right-color:rgb(64, 64, 64);border-right-style:none;border-right-width:0px;border-top-color:rgb(64, 64, 64);border-top-style:none;border-top-width:0px;box-sizing:border-box;display:block;float:left;line-height:22.5px;margin-bottom:0px;margin-left:0px;margin-right:0px;margin-top:0px;padding-bottom:0px;padding-left:22.5px;padding-right:0px;padding-top:0px;text-decoration-color:rgb(64, 64, 64);text-decoration-line:none;text-decoration-style:solid;vertical-align:baseline;width:50%\">\\n         <div style=\"background-repeat:no-repeat;-webkit-background-clip:border-box;font-family:&quot;Open Sans&quot;, Helvetica, Arial, sans-serif;font-size:15px;font-stretch:100%;font-style:normal;font-variant-caps:normal;font-variant-east-asian:normal;font-variant-ligatures:normal;font-variant-numeric:normal;font-weight:400;background-attachment:scroll;background-clip:border-box;background-color:rgb(255, 255, 255);background-image:url(&quot;data:image/png;base64,iVBORw0KGgoAAAANSUhEUgAAA8AAAAA1CAMAAAC5v3KeAAABC1BMVEUAAACZmZmZmZmZmZmZmZmZmZmZmZmZmZmZmZmZmZmZmZmampqbm5ucnJydnZ2enp6fn5+goKCioqKjo6OkpKSlpaWnp6eoqKipqamqqqqrq6usrKyurq6vr6+wsLCxsbGysrK0tLS1tbW2tra4uLi5ubm6urq7u7u8vLy9vb2/v7/AwMDBwcHCwsLDw8PExMTGxsbHx8fIyMjJycnKysrLy8vMzMzNzc3Ozs7Pz8/Q0NDR0dHS0tLT09PU1NTV1dXW1tbX19fZ2dna2trb29vc3Nzd3d3e3t7f39/g4ODh4eHj4+Pk5OTl5eXm5ubn5+fp6enq6urr6+vs7Ozt7e3u7u7v7+/w8PDx8fFhltrpAAAACnRSTlMACSB0dtHS1tf6wfTwIgAAAl9JREFUGBntwdlWU0sUhtGFPf8OYItHESXYo0g8R1Bjg4oNiCIsG+r9n0STnV3kIniVQ40a9c1pZhPHT04KQFYmTx6fsD+OnRaADJ0+ZjZxRgCydGbCTghApk7YKQHI1CmbFIBMTZoAZMsEIFum/8Olh6trR2h1eVZAiUzDrnS6qzdbGjJ95+mz5UsaNve4u9qu9BftXT9ie7cEFMh0YOpl6Pl6RVF7L/yx/2+lxsx66Nme1aGmv/qR25kRUB5TVL0LtR+zGrixH2prGmh9DLW9izrMoidwW0B5TNHt0HivWmsnNOZUWwqNNzrMc0/glYDymKIPIbqovoUQPVPtc2jsn9NorW+ewO6MgOKYou8haqtvOUSf1Ffth2heoy14EosCimOKfoRoUX2PQrSpviocuK7R1jyJroDimKJPIZpV32KIXqj2JUTnNVK140l8mxJQGlO0FBpbqk3thcYN1VZCY0OjzXsiCwJKY4pam6H2a04Dt8LAaw1Mb4faz3802n+eyFMBpTEdOPc+9PiCovs/Q8/LKTXOb4ae3Wsardr2RHZaAgpjGtbubqw/OKshF1bevlu7piHVze7G66VpHeKqJzMvoDCmMet4Mk8EFMY0ZluezHYloCym8brsCc0JKItpvB55Qh0BZTGN10dPaEtAWUxjddeTuiegKLYyRp31z4mtd1aAgpgDyJY5gGyZA8iWOYBsmQPIljmAbJkDyJY5gGyZA8iWOYBsmQPIljmAbJkDyJY5gGyZA8iWOYBsmQPIljmAbJkDyJY5gGyZA8iWOYBsmQPIljmAbJkDyNZv/qOPFM+ufUUAAAAASUVORK5CYII=&quot;);background-origin:padding-box;background-position-x:0%;background-position-y:0%;background-size:auto;border-bottom-color:rgb(64, 64, 64);border-bottom-left-radius:0px;border-bottom-right-radius:0px;border-bottom-style:none;border-bottom-width:0px;border-image-outset:0px;border-image-repeat:stretch;border-image-slice:100%;border-image-source:none;border-image-width:1;border-left-color:rgb(64, 64, 64);border-left-style:none;border-left-width:0px;border-right-color:rgb(64, 64, 64);border-right-style:none;border-right-width:0px;border-top-color:rgb(64, 64, 64);border-top-left-radius:5px;border-top-right-radius:5px;border-top-style:none;border-top-width:0px;display:block;height:400px;line-height:22.5px;margin-bottom:-60px;margin-left:0px;margin-right:0px;margin-top:0px;max-height:400px;max-width:none;overflow-x:hidden;overflow-y:hidden;padding-bottom:0px;padding-left:0px;padding-right:0px;padding-top:53px;text-decoration-color:rgb(64, 64, 64);text-decoration-line:none;text-decoration-style:solid;vertical-align:baseline;width:960px\">\\n           <span style=\"background-repeat:repeat;-webkit-background-clip:border-box;font-family:&quot;Open Sans&quot;, Helvetica, Arial, sans-serif;font-size:15px;font-stretch:100%;font-style:normal;font-variant-caps:normal;font-variant-east-asian:normal;font-variant-ligatures:normal;font-variant-numeric:normal;font-weight:400;background-attachment:scroll;background-clip:border-box;background-color:rgba(0, 0, 0, 0);background-image:url(&quot;data:image/png;base64,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&quot;);background-origin:padding-box;background-position-x:0px;background-position-y:-175px;background-size:auto;border-bottom-color:rgb(64, 64, 64);border-bottom-style:none;border-bottom-width:0px;border-image-outset:0px;border-image-repeat:stretch;border-image-slice:100%;border-image-source:none;border-image-width:1;border-left-color:rgb(64, 64, 64);border-left-style:none;border-left-width:0px;border-right-color:rgb(64, 64, 64);border-right-style:none;border-right-width:0px;border-top-color:rgb(64, 64, 64);border-top-style:none;border-top-width:0px;display:block;height:158px;left:240px;line-height:22.5px;margin-bottom:0px;margin-left:0px;margin-right:0px;margin-top:-79px;overflow-x:hidden;overflow-y:hidden;padding-bottom:0px;padding-left:0px;padding-right:0px;padding-top:0px;position:relative;text-decoration-color:rgb(64, 64, 64);text-decoration-line:none;text-decoration-style:solid;top:200px;vertical-align:baseline;width:178px\"></span>\\n         </div>\\n        </div>\\n        <span style=\"clear:both;display:table\"> </span>\\n       </div>\\n       <span style=\"clear:both;display:table\"> </span>\\n      </div>\\n      <span style=\"clear:both;display:table\"> </span>\\n     </div>\\n\\n\\n\\n     <div style=\"background-repeat:repeat;-webkit-background-clip:border-box;font-family:&quot;Open Sans&quot;, Helvetica, Arial, sans-serif;font-size:15px;font-stretch:100%;font-style:normal;font-variant-caps:normal;font-variant-east-asian:normal;font-variant-ligatures:normal;font-variant-numeric:normal;font-weight:400;background-attachment:scroll;background-clip:border-box;background-color:rgba(0, 0, 0, 0);background-image:none;background-origin:padding-box;background-position-x:0px;background-position-y:0px;background-size:auto;border-bottom-color:rgb(64, 64, 64);border-bottom-style:none;border-bottom-width:0px;border-image-outset:0px;border-image-repeat:stretch;border-image-slice:100%;border-image-source:none;border-image-width:1;border-left-color:rgb(64, 64, 64);border-left-style:none;border-left-width:0px;border-right-color:rgb(64, 64, 64);border-right-style:none;border-right-width:0px;border-top-color:rgb(64, 64, 64);border-top-style:none;border-top-width:0px;display:block;line-height:22.5px;margin-bottom:30px;margin-left:auto;margin-right:auto;margin-top:30px;padding-bottom:0px;padding-left:0px;padding-right:0px;padding-top:0px;text-decoration-color:rgb(64, 64, 64);text-decoration-line:none;text-decoration-style:solid;vertical-align:baseline;width:708px\">\\n      <span style=\"display:table\"> </span>\\n      <div style=\"font-family:&quot;Open Sans&quot;, Helvetica, Arial, sans-serif;font-size:15px;font-stretch:100%;font-style:normal;font-variant-caps:normal;font-variant-east-asian:normal;font-variant-ligatures:normal;font-variant-numeric:normal;font-weight:400;border-bottom-color:rgb(64, 64, 64);border-bottom-style:none;border-bottom-width:0px;border-image-outset:0px;border-image-repeat:stretch;border-image-slice:100%;border-image-source:none;border-image-width:1;border-left-color:rgb(64, 64, 64);border-left-style:none;border-left-width:0px;border-right-color:rgb(64, 64, 64);border-right-style:none;border-right-width:0px;border-top-color:rgb(64, 64, 64);border-top-style:none;border-top-width:0px;display:block;line-height:22.5px;list-style-image:none;list-style-position:outside;list-style-type:none;margin-bottom:0px;margin-left:0px;margin-right:0px;margin-top:0px;padding-bottom:0px;padding-left:0px;padding-right:0px;padding-top:0px;text-decoration-color:rgb(64, 64, 64);text-decoration-line:none;text-decoration-style:solid;vertical-align:baseline;width:100%\">\\n       <span style=\"display:table\"> </span>\\n       <div style=\"font-family:&quot;Open Sans&quot;, Helvetica, Arial, sans-serif;font-size:15px;font-stretch:100%;font-style:normal;font-variant-caps:normal;font-variant-east-asian:normal;font-variant-ligatures:normal;font-variant-numeric:normal;font-weight:400;border-bottom-color:rgb(64, 64, 64);border-bottom-style:none;border-bottom-width:0px;border-image-outset:0px;border-image-repeat:stretch;border-image-slice:100%;border-image-source:none;border-image-width:1;border-left-color:rgb(64, 64, 64);border-left-style:none;border-left-width:0px;border-right-color:rgb(64, 64, 64);border-right-style:none;border-right-width:0px;border-top-color:rgb(64, 64, 64);border-top-style:none;border-top-width:0px;box-sizing:border-box;clear:left;display:block;float:left;line-height:22.5px;margin-bottom:0px;margin-left:0px;margin-right:0px;margin-top:0px;padding-bottom:0px;padding-left:0px;padding-right:22.5px;padding-top:0px;text-decoration-color:rgb(64, 64, 64);text-decoration-line:none;text-decoration-style:solid;vertical-align:baseline;width:50%\">\\n        <h2 style=\"color:rgb(64, 64, 64);font-family:&quot;Open Sans&quot;, Helvetica, Arial, sans-serif;font-size:30px;font-stretch:100%;font-style:normal;font-variant-caps:normal;font-variant-east-asian:normal;font-variant-ligatures:normal;font-variant-numeric:normal;font-weight:400;border-bottom-color:rgb(64, 64, 64);border-bottom-style:none;border-bottom-width:0px;border-image-outset:0px;border-image-repeat:stretch;border-image-slice:100%;border-image-source:none;border-image-width:1;border-left-color:rgb(64, 64, 64);border-left-style:none;border-left-width:0px;border-right-color:rgb(64, 64, 64);border-right-style:none;border-right-width:0px;border-top-color:rgb(64, 64, 64);border-top-style:none;border-top-width:0px;display:block;line-height:1.3;margin-block-end:0px;margin-block-start:0px;margin-bottom:0px;margin-inline-end:0px;margin-inline-start:0px;margin-left:0px;margin-right:0px;margin-top:0px;padding-bottom:0px;padding-left:0px;padding-right:0px;padding-top:0px;text-decoration-color:rgb(64, 64, 64);text-decoration-line:none;text-decoration-style:solid;vertical-align:baseline\">\\n          Why do I have to complete a CAPTCHA?\\n        </h2>\\n        <div style=\"color:rgb(64, 64, 64);font-family:&quot;Open Sans&quot;, Helvetica, Arial, sans-serif;font-size:15px;font-stretch:100%;font-style:normal;font-variant-caps:normal;font-variant-east-asian:normal;font-variant-ligatures:normal;font-variant-numeric:normal;font-weight:400;border-bottom-color:rgb(64, 64, 64);border-bottom-style:none;border-bottom-width:0px;border-image-outset:0px;border-image-repeat:stretch;border-image-slice:100%;border-image-source:none;border-image-width:1;border-left-color:rgb(64, 64, 64);border-left-style:none;border-left-width:0px;border-right-color:rgb(64, 64, 64);border-right-style:none;border-right-width:0px;border-top-color:rgb(64, 64, 64);border-top-style:none;border-top-width:0px;display:block;line-height:22.5px;margin-block-end:0px;margin-block-start:15px;margin-bottom:0px;margin-inline-end:0px;margin-inline-start:0px;margin-left:0px;margin-right:0px;margin-top:15px;padding-bottom:0px;padding-left:0px;padding-right:0px;padding-top:0px;text-decoration-color:rgb(64, 64, 64);text-decoration-line:none;text-decoration-style:solid;vertical-align:baseline\">\\n          Completing the CAPTCHA proves you are a human and gives you temporary access to the web property.\\n        </div>\\n       </div>\\n       <div style=\"font-family:&quot;Open Sans&quot;, Helvetica, Arial, sans-serif;font-size:15px;font-stretch:100%;font-style:normal;font-variant-caps:normal;font-variant-east-asian:normal;font-variant-ligatures:normal;font-variant-numeric:normal;font-weight:400;border-bottom-color:rgb(64, 64, 64);border-bottom-style:none;border-bottom-width:0px;border-image-outset:0px;border-image-repeat:stretch;border-image-slice:100%;border-image-source:none;border-image-width:1;border-left-color:rgb(64, 64, 64);border-left-style:none;border-left-width:0px;border-right-color:rgb(64, 64, 64);border-right-style:none;border-right-width:0px;border-top-color:rgb(64, 64, 64);border-top-style:none;border-top-width:0px;box-sizing:border-box;display:block;float:left;line-height:22.5px;margin-bottom:0px;margin-left:0px;margin-right:0px;margin-top:0px;padding-bottom:0px;padding-left:22.5px;padding-right:0px;padding-top:0px;text-decoration-color:rgb(64, 64, 64);text-decoration-line:none;text-decoration-style:solid;vertical-align:baseline;width:50%\">\\n        <h2 style=\"color:rgb(64, 64, 64);font-family:&quot;Open Sans&quot;, Helvetica, Arial, sans-serif;font-size:30px;font-stretch:100%;font-style:normal;font-variant-caps:normal;font-variant-east-asian:normal;font-variant-ligatures:normal;font-variant-numeric:normal;font-weight:400;border-bottom-color:rgb(64, 64, 64);border-bottom-style:none;border-bottom-width:0px;border-image-outset:0px;border-image-repeat:stretch;border-image-slice:100%;border-image-source:none;border-image-width:1;border-left-color:rgb(64, 64, 64);border-left-style:none;border-left-width:0px;border-right-color:rgb(64, 64, 64);border-right-style:none;border-right-width:0px;border-top-color:rgb(64, 64, 64);border-top-style:none;border-top-width:0px;display:block;line-height:1.3;margin-block-end:0px;margin-block-start:0px;margin-bottom:0px;margin-inline-end:0px;margin-inline-start:0px;margin-left:0px;margin-right:0px;margin-top:0px;padding-bottom:0px;padding-left:0px;padding-right:0px;padding-top:0px;text-decoration-color:rgb(64, 64, 64);text-decoration-line:none;text-decoration-style:solid;vertical-align:baseline\">\\n          What can I do to prevent this in the future?\\n        </h2>\\n        <div style=\"min-height:22px;font-family:&quot;Open Sans&quot;, Helvetica, Arial, sans-serif;font-size:15px;font-stretch:100%;font-style:normal;font-variant-caps:normal;font-variant-east-asian:normal;font-variant-ligatures:normal;font-variant-numeric:normal;font-weight:400;border-bottom-color:rgb(64, 64, 64);border-bottom-style:none;border-bottom-width:0px;border-image-outset:0px;border-image-repeat:stretch;border-image-slice:100%;border-image-source:none;border-image-width:1;border-left-color:rgb(64, 64, 64);border-left-style:none;border-left-width:0px;border-right-color:rgb(64, 64, 64);border-right-style:none;border-right-width:0px;border-top-color:rgb(64, 64, 64);border-top-style:none;border-top-width:0px;display:block;left:-250px;line-height:22.5px;margin-bottom:0px;margin-left:0px;margin-right:0px;margin-top:0px;padding-bottom:0px;padding-left:0px;padding-right:0px;padding-top:0px;position:absolute;text-decoration-color:rgb(64, 64, 64);text-decoration-line:none;text-decoration-style:solid;top:-250px;vertical-align:baseline\">\\n        </div>\\n        <div style=\"color:rgb(64, 64, 64);font-family:&quot;Open Sans&quot;, Helvetica, Arial, sans-serif;font-size:15px;font-stretch:100%;font-style:normal;font-variant-caps:normal;font-variant-east-asian:normal;font-variant-ligatures:normal;font-variant-numeric:normal;font-weight:400;border-bottom-color:rgb(64, 64, 64);border-bottom-style:none;border-bottom-width:0px;border-image-outset:0px;border-image-repeat:stretch;border-image-slice:100%;border-image-source:none;border-image-width:1;border-left-color:rgb(64, 64, 64);border-left-style:none;border-left-width:0px;border-right-color:rgb(64, 64, 64);border-right-style:none;border-right-width:0px;border-top-color:rgb(64, 64, 64);border-top-style:none;border-top-width:0px;display:block;line-height:22.5px;margin-block-end:0px;margin-block-start:0px;margin-bottom:0px;margin-inline-end:0px;margin-inline-start:0px;margin-left:0px;margin-right:0px;margin-top:0px;padding-bottom:0px;padding-left:0px;padding-right:0px;padding-top:0px;text-decoration-color:rgb(64, 64, 64);text-decoration-line:none;text-decoration-style:solid;vertical-align:baseline\">\\n          If you are on a personal connection, like at home, you can run an anti-virus scan on your device to make sure it is not infected with malware.\\n        </div>\\n        <div style=\"color:rgb(64, 64, 64);font-family:&quot;Open Sans&quot;, Helvetica, Arial, sans-serif;font-size:15px;font-stretch:100%;font-style:normal;font-variant-caps:normal;font-variant-east-asian:normal;font-variant-ligatures:normal;font-variant-numeric:normal;font-weight:400;border-bottom-color:rgb(64, 64, 64);border-bottom-style:none;border-bottom-width:0px;border-image-outset:0px;border-image-repeat:stretch;border-image-slice:100%;border-image-source:none;border-image-width:1;border-left-color:rgb(64, 64, 64);border-left-style:none;border-left-width:0px;border-right-color:rgb(64, 64, 64);border-right-style:none;border-right-width:0px;border-top-color:rgb(64, 64, 64);border-top-style:none;border-top-width:0px;display:block;line-height:22.5px;margin-block-end:0px;margin-block-start:22.5px;margin-bottom:0px;margin-inline-end:0px;margin-inline-start:0px;margin-left:0px;margin-right:0px;margin-top:22.5px;padding-bottom:0px;padding-left:0px;padding-right:0px;padding-top:0px;text-decoration-color:rgb(64, 64, 64);text-decoration-line:none;text-decoration-style:solid;vertical-align:baseline\">\\n          If you are at an office or shared network, you can ask the network administrator to run a scan across the network looking for misconfigured or infected devices.\\n        </div>\\n       </div>\\n       <span style=\"clear:both;display:table\"> </span>\\n      </div>\\n      <span style=\"clear:both;display:table\"> </span>\\n     </div>\\n     <div style=\"font-family:&quot;Open Sans&quot;, Helvetica, Arial, sans-serif;font-size:15px;font-stretch:100%;font-style:normal;font-variant-caps:normal;font-variant-east-asian:normal;font-variant-ligatures:normal;font-variant-numeric:normal;font-weight:400;border-bottom-color:rgb(64, 64, 64);border-bottom-style:none;border-bottom-width:0px;border-image-outset:0px;border-image-repeat:stretch;border-image-slice:100%;border-image-source:none;border-image-width:1;border-left-color:rgb(64, 64, 64);border-left-style:none;border-left-width:0px;border-right-color:rgb(64, 64, 64);border-right-style:none;border-right-width:0px;border-top-color:rgb(235, 235, 235);border-top-style:solid;border-top-width:1px;display:block;line-height:22.5px;margin-bottom:0px;margin-left:auto;margin-right:auto;margin-top:0px;padding-bottom:40px;padding-left:0px;padding-right:0px;padding-top:40px;text-align:center;text-decoration-color:rgb(64, 64, 64);text-decoration-line:none;text-decoration-style:solid;vertical-align:baseline;width:708px\">\\n      <span style=\"display:table\"></span>\\n      <span style=\"clear:both;display:table\"> </span>\\n     </div>\\n    </div>\\n   </div>\\n  </div>\\n </div>\\n\\n\\n\\n <script type=\"text/javascript\">\\n   var h = window.location.href;\\n   if (!window.location.hash)\\n     window.history.pushState(\\'/\\',\\'\\',\\'/\\');\\n   var onloadCallback = function() {\\n     document.getElementById(\\'g-host\\').innerText = window.location.host;\\n     var widgetId = grecaptcha.render(\\'g-recaptcha\\', {\\n       \\'sitekey\\': \\'6LeQbtsSAAAAAHevV56qhVr_0JhQI7N-zTPoOoWJ\\', // my\\n     //\\'sitekey\\': \\'6Lc7CQMTAAAAAIL84V_tPRYEWZtljsJQJZ5jSijw\\', // linkedin\\'s\\n       \\'callback\\': function(response) {\\n         var xhr = new XMLHttpRequest();\\n         xhr.open(\\'POST\\', \"/cdn-cgi/l/chk_captcha\");\\n         xhr.setRequestHeader(\\'Content-Type\\', \\'application/x-www-form-urlencoded\\');\\n         xhr.send(\\'response=\\'+encodeURIComponent(response)+\"&location=\"+encodeURIComponent(h));\\n         xhr.onload = function() {\\n           if (xhr.status == 200) {\\n             if (window.location.href != h)\\n               window.location.replace(h);\\n             else\\n               window.location.reload();\\n           } else {\\n             grecaptcha.reset(widgetId);\\n           }\\n         }\\n         xhr.onerror = function() { grecaptcha.reset(widgetId); }\\n       }\\n     });\\n   };\\n\\n   setInterval(function() {\\n     var e = document.querySelector(\\'body > div[style*=\"absolute\"]\\');\\n     if (e && e.style.left.match(/^-/))\\n       e.style.left = \"10px\";\\n   }, 1000);\\n </script>\\n\\n <script src=\"https://www.google.com/recaptcha/api.js?hl=en&onload=onloadCallback&render=explicit\" async defer></script>\\n</body>\\n</html>\\n'"
      ]
     },
     "execution_count": 43,
     "metadata": {},
     "output_type": "execute_result"
    }
   ],
   "source": [
    "response.text"
   ]
  },
  {
   "cell_type": "code",
   "execution_count": null,
   "metadata": {},
   "outputs": [],
   "source": [
    "# If the response is a redirect, assume the archive URL is in the Location header.\n",
    "if response.status_code == 302 and \"Location\" in response.headers:\n",
    "    archive_url = response.headers[\"Location\"]\n",
    "    if archive_url == \"https://archive.ph/wip\":\n",
    "        raise ArchiveInProgress(f\"Archiving in progress for {url}\")\n",
    "    print(archive_url, get_archive_details(response.text), response.text)\n"
   ]
  },
  {
   "cell_type": "code",
   "execution_count": null,
   "metadata": {},
   "outputs": [],
   "source": [
    "# Otherwise, try to extract the archive URL from the HTML using regex.\n",
    "match = re.search(r\"(https?://archive\\.ph/\\w+)\", response.text)\n",
    "if match:\n",
    "    archive_url = match.group(1)\n",
    "    if archive_url == \"https://archive.ph/wip\":\n",
    "        raise ArchiveInProgress(f\"Archiving in progress for {url}\")\n",
    "    print(archive_url, get_archive_details(response.text), response.text)\n"
   ]
  },
  {
   "cell_type": "code",
   "execution_count": null,
   "metadata": {},
   "outputs": [],
   "source": [
    "raise ArchiveFailure(\n",
    "    f\"Failed to capture {url} via archive.ph (status: {response.status_code})\"\n",
    ")"
   ]
  },
  {
   "cell_type": "code",
   "execution_count": null,
   "metadata": {},
   "outputs": [
    {
     "name": "stdout",
     "output_type": "stream",
     "text": [
      "Title: la diaria\n",
      "Image: https://ladiaria.com.uy/static/meta/la-diaria-1000x1000.png\n"
     ]
    }
   ],
   "source": []
  },
  {
   "cell_type": "code",
   "execution_count": 10,
   "metadata": {},
   "outputs": [
    {
     "name": "stdout",
     "output_type": "stream",
     "text": [
      "Collecting selenium\n",
      "  Obtaining dependency information for selenium from https://files.pythonhosted.org/packages/2f/a6/fc66ea71ec0769f72abdf15cb9ec9269517abe68a160839383ddff7478f1/selenium-4.29.0-py3-none-any.whl.metadata\n",
      "  Downloading selenium-4.29.0-py3-none-any.whl.metadata (7.1 kB)\n",
      "Requirement already satisfied: urllib3[socks]<3,>=1.26 in /Users/raulsperoni/Library/Caches/pypoetry/virtualenvs/memoria-LKcHpmhp-py3.10/lib/python3.10/site-packages (from selenium) (2.3.0)\n",
      "Collecting trio~=0.17 (from selenium)\n",
      "  Obtaining dependency information for trio~=0.17 from https://files.pythonhosted.org/packages/c9/55/c4d9bea8b3d7937901958f65124123512419ab0eb73695e5f382521abbfb/trio-0.29.0-py3-none-any.whl.metadata\n",
      "  Downloading trio-0.29.0-py3-none-any.whl.metadata (8.5 kB)\n",
      "Collecting trio-websocket~=0.9 (from selenium)\n",
      "  Obtaining dependency information for trio-websocket~=0.9 from https://files.pythonhosted.org/packages/c7/19/eb640a397bba49ba49ef9dbe2e7e5c04202ba045b6ce2ec36e9cadc51e04/trio_websocket-0.12.2-py3-none-any.whl.metadata\n",
      "  Downloading trio_websocket-0.12.2-py3-none-any.whl.metadata (5.1 kB)\n",
      "Requirement already satisfied: certifi>=2021.10.8 in /Users/raulsperoni/Library/Caches/pypoetry/virtualenvs/memoria-LKcHpmhp-py3.10/lib/python3.10/site-packages (from selenium) (2025.1.31)\n",
      "Requirement already satisfied: typing_extensions~=4.9 in /Users/raulsperoni/Library/Caches/pypoetry/virtualenvs/memoria-LKcHpmhp-py3.10/lib/python3.10/site-packages (from selenium) (4.12.2)\n",
      "Collecting websocket-client~=1.8 (from selenium)\n",
      "  Obtaining dependency information for websocket-client~=1.8 from https://files.pythonhosted.org/packages/5a/84/44687a29792a70e111c5c477230a72c4b957d88d16141199bf9acb7537a3/websocket_client-1.8.0-py3-none-any.whl.metadata\n",
      "  Downloading websocket_client-1.8.0-py3-none-any.whl.metadata (8.0 kB)\n",
      "Requirement already satisfied: attrs>=23.2.0 in /Users/raulsperoni/Library/Caches/pypoetry/virtualenvs/memoria-LKcHpmhp-py3.10/lib/python3.10/site-packages (from trio~=0.17->selenium) (25.1.0)\n",
      "Collecting sortedcontainers (from trio~=0.17->selenium)\n",
      "  Obtaining dependency information for sortedcontainers from https://files.pythonhosted.org/packages/32/46/9cb0e58b2deb7f82b84065f37f3bffeb12413f947f9388e4cac22c4621ce/sortedcontainers-2.4.0-py2.py3-none-any.whl.metadata\n",
      "  Downloading sortedcontainers-2.4.0-py2.py3-none-any.whl.metadata (10 kB)\n",
      "Requirement already satisfied: idna in /Users/raulsperoni/Library/Caches/pypoetry/virtualenvs/memoria-LKcHpmhp-py3.10/lib/python3.10/site-packages (from trio~=0.17->selenium) (3.10)\n",
      "Collecting outcome (from trio~=0.17->selenium)\n",
      "  Obtaining dependency information for outcome from https://files.pythonhosted.org/packages/55/8b/5ab7257531a5d830fc8000c476e63c935488d74609b50f9384a643ec0a62/outcome-1.3.0.post0-py2.py3-none-any.whl.metadata\n",
      "  Downloading outcome-1.3.0.post0-py2.py3-none-any.whl.metadata (2.6 kB)\n",
      "Requirement already satisfied: sniffio>=1.3.0 in /Users/raulsperoni/Library/Caches/pypoetry/virtualenvs/memoria-LKcHpmhp-py3.10/lib/python3.10/site-packages (from trio~=0.17->selenium) (1.3.1)\n",
      "Requirement already satisfied: exceptiongroup in /Users/raulsperoni/Library/Caches/pypoetry/virtualenvs/memoria-LKcHpmhp-py3.10/lib/python3.10/site-packages (from trio~=0.17->selenium) (1.2.2)\n",
      "Collecting wsproto>=0.14 (from trio-websocket~=0.9->selenium)\n",
      "  Obtaining dependency information for wsproto>=0.14 from https://files.pythonhosted.org/packages/78/58/e860788190eba3bcce367f74d29c4675466ce8dddfba85f7827588416f01/wsproto-1.2.0-py3-none-any.whl.metadata\n",
      "  Downloading wsproto-1.2.0-py3-none-any.whl.metadata (5.6 kB)\n",
      "Collecting pysocks!=1.5.7,<2.0,>=1.5.6 (from urllib3[socks]<3,>=1.26->selenium)\n",
      "  Obtaining dependency information for pysocks!=1.5.7,<2.0,>=1.5.6 from https://files.pythonhosted.org/packages/8d/59/b4572118e098ac8e46e399a1dd0f2d85403ce8bbaad9ec79373ed6badaf9/PySocks-1.7.1-py3-none-any.whl.metadata\n",
      "  Downloading PySocks-1.7.1-py3-none-any.whl.metadata (13 kB)\n",
      "Requirement already satisfied: h11<1,>=0.9.0 in /Users/raulsperoni/Library/Caches/pypoetry/virtualenvs/memoria-LKcHpmhp-py3.10/lib/python3.10/site-packages (from wsproto>=0.14->trio-websocket~=0.9->selenium) (0.14.0)\n",
      "Downloading selenium-4.29.0-py3-none-any.whl (9.5 MB)\n",
      "\u001b[2K   \u001b[90m━━━━━━━━━━━━━━━━━━━━━━━━━━━━━━━━━━━━━━━━\u001b[0m \u001b[32m9.5/9.5 MB\u001b[0m \u001b[31m40.2 MB/s\u001b[0m eta \u001b[36m0:00:00\u001b[0ma \u001b[36m0:00:01\u001b[0m\n",
      "\u001b[?25hDownloading trio-0.29.0-py3-none-any.whl (492 kB)\n",
      "\u001b[2K   \u001b[90m━━━━━━━━━━━━━━━━━━━━━━━━━━━━━━━━━━━━━━━━\u001b[0m \u001b[32m492.9/492.9 kB\u001b[0m \u001b[31m38.5 MB/s\u001b[0m eta \u001b[36m0:00:00\u001b[0m\n",
      "\u001b[?25hDownloading trio_websocket-0.12.2-py3-none-any.whl (21 kB)\n",
      "Downloading websocket_client-1.8.0-py3-none-any.whl (58 kB)\n",
      "\u001b[2K   \u001b[90m━━━━━━━━━━━━━━━━━━━━━━━━━━━━━━━━━━━━━━━━\u001b[0m \u001b[32m58.8/58.8 kB\u001b[0m \u001b[31m9.1 MB/s\u001b[0m eta \u001b[36m0:00:00\u001b[0m\n",
      "\u001b[?25hDownloading outcome-1.3.0.post0-py2.py3-none-any.whl (10 kB)\n",
      "Downloading PySocks-1.7.1-py3-none-any.whl (16 kB)\n",
      "Downloading wsproto-1.2.0-py3-none-any.whl (24 kB)\n",
      "Downloading sortedcontainers-2.4.0-py2.py3-none-any.whl (29 kB)\n",
      "Installing collected packages: sortedcontainers, wsproto, websocket-client, pysocks, outcome, trio, trio-websocket, selenium\n",
      "Successfully installed outcome-1.3.0.post0 pysocks-1.7.1 selenium-4.29.0 sortedcontainers-2.4.0 trio-0.29.0 trio-websocket-0.12.2 websocket-client-1.8.0 wsproto-1.2.0\n",
      "\n",
      "\u001b[1m[\u001b[0m\u001b[34;49mnotice\u001b[0m\u001b[1;39;49m]\u001b[0m\u001b[39;49m A new release of pip is available: \u001b[0m\u001b[31;49m23.2.1\u001b[0m\u001b[39;49m -> \u001b[0m\u001b[32;49m25.0.1\u001b[0m\n",
      "\u001b[1m[\u001b[0m\u001b[34;49mnotice\u001b[0m\u001b[1;39;49m]\u001b[0m\u001b[39;49m To update, run: \u001b[0m\u001b[32;49mpip install --upgrade pip\u001b[0m\n"
     ]
    }
   ],
   "source": [
    "!pip install selenium"
   ]
  },
  {
   "cell_type": "code",
   "execution_count": null,
   "metadata": {},
   "outputs": [
    {
     "name": "stdout",
     "output_type": "stream",
     "text": [
      "Title: la diaria\n",
      "Image: https://ladiaria.com.uy/static/meta/la-diaria-1000x1000.png\n"
     ]
    }
   ],
   "source": [
    "from selenium import webdriver\n",
    "from selenium.webdriver.chrome.options import Options\n",
    "from bs4 import BeautifulSoup\n",
    "import time\n",
    "\n",
    "# Configure Chrome options\n",
    "chrome_options = Options()\n",
    "chrome_options.add_argument(\"--headless\")\n",
    "# Mimic a real browser's user agent (you can also try mimicking WhatsApp's crawler UA)\n",
    "chrome_options.add_argument(\n",
    "    \"user-agent=Mozilla/5.0 (Windows NT 10.0; Win64; x64) \"\n",
    "    \"AppleWebKit/537.36 (KHTML, like Gecko) \"\n",
    "    \"Chrome/92.0.4515.107 Safari/537.36\"\n",
    ")\n",
    "\n",
    "driver = webdriver.Chrome(options=chrome_options)\n",
    "driver.get(original_url)\n",
    "\n",
    "# Wait a few seconds for the page to load completely (adjust as needed)\n",
    "time.sleep(5)\n",
    "\n",
    "# Get the rendered HTML\n",
    "html = driver.page_source\n",
    "soup = BeautifulSoup(html, \"html.parser\")\n",
    "\n",
    "# Extract meta tags (e.g., OpenGraph title and image)\n",
    "og_title = soup.find(\"meta\", property=\"og:title\")\n",
    "og_image = soup.find(\"meta\", property=\"og:image\")\n",
    "\n",
    "title = og_title[\"content\"] if og_title else None\n",
    "image = og_image[\"content\"] if og_image else None\n",
    "\n",
    "print(\"Title:\", title)\n",
    "print(\"Image:\", image)\n",
    "\n",
    "driver.quit()\n"
   ]
  },
  {
   "cell_type": "code",
   "execution_count": null,
   "metadata": {},
   "outputs": [],
   "source": [
    "from core import archive\n"
   ]
  },
  {
   "cell_type": "code",
   "execution_count": 3,
   "metadata": {},
   "outputs": [],
   "source": [
    "wayback_url = archive.get_wayback_latest_snapshot(original_url)\n",
    "html = archive.fetch_wayback_snapshot(wayback_url)\n",
    "details = archive.parse_wayback_details(html)"
   ]
  },
  {
   "cell_type": "code",
   "execution_count": 4,
   "metadata": {},
   "outputs": [
    {
     "data": {
      "text/plain": [
       "{'title': 'Gobierno electo le ofreció 34 cargos a la oposición y la coalición se reunirá para hacer una contrapropuesta | la diaria | Uruguay',\n",
       " 'archive_date': '2025-02-25T00:54:47+00:00',\n",
       " 'screenshot_url': 'http://web.archive.org/web/20250226133810im_/https://ladiaria.com.uy/media/photologue/photos/cache/cargos_RS261834_20250224_MVU-6892_article_main.jpg?r=UwRU3mYx0ByPEpPP',\n",
       " 'archive_url': 'http://web.archive.org/web/20250226133810/https://ladiaria.com.uy/politica/articulo/2025/2/gobierno-electo-le-ofrecio-34-cargos-a-la-oposicion-y-la-coalicion-se-reunira-para-hacer-una-contrapropuesta/'}"
      ]
     },
     "execution_count": 4,
     "metadata": {},
     "output_type": "execute_result"
    }
   ],
   "source": [
    "details"
   ]
  },
  {
   "cell_type": "code",
   "execution_count": 13,
   "metadata": {},
   "outputs": [
    {
     "name": "stdout",
     "output_type": "stream",
     "text": [
      "Snapshot found: http://web.archive.org/web/20250226133810/https://ladiaria.com.uy/politica/articulo/2025/2/gobierno-electo-le-ofrecio-34-cargos-a-la-oposicion-y-la-coalicion-se-reunira-para-hacer-una-contrapropuesta/\n"
     ]
    }
   ],
   "source": [
    "result = check_wayback(article)\n",
    "if not result:\n",
    "    save_link = f\"https://web.archive.org/save/{article}\"\n",
    "    print(\"No snapshot found. You can save it here:\", save_link)\n",
    "else:\n",
    "    print(\"Snapshot found:\", result)"
   ]
  },
  {
   "cell_type": "code",
   "execution_count": 5,
   "metadata": {},
   "outputs": [],
   "source": [
    "from core import parse\n",
    "\n",
    "markdwon = parse.parse_noticia_markdown(html, metadata[\"title\"])\n"
   ]
  },
  {
   "cell_type": "code",
   "execution_count": 6,
   "metadata": {},
   "outputs": [
    {
     "name": "stdout",
     "output_type": "stream",
     "text": [
      "# Gobierno electo le ofreció 34 cargos a la oposición y la coalición se reunirá para hacer una contrapropuesta\n",
      "\n",
      "**Fuente:** la diaria\n",
      "\n",
      "**Autor:** No especificado\n",
      "\n",
      "Este lunes, en la sede de la transición de gobierno, el edificio Plaza Alemania, el futuro secretario de Presidencia, Alejandro Sánchez, y el próximo prosecretario de Presidencia, Jorge Díaz, recibieron a los representantes de los partidos de la oposición para hacer oficial la propuesta de cargos. A la reunión asistieron el senador y excandidato Álvaro Delgado, por el Partido Nacional (PN), el senador y secretario general del Partido Colorado (PC), Andrés Ojeda, el exsenador Guido Manini Ríos, líder de Cabildo Abierto (CA), Pablo Mieres, líder del Partido Independiente, y el diputado Gustavo Salle, líder de Identidad Soberana. Este último, como ya había adelantado, informó que no aceptará cargos.\n",
      "\n",
      "El gobierno electo ofreció a la oposición 34 cargos: seis en la Corte Electoral (cuatro ministros, un secretario letrado y un subdirector de la Oficina Nacional), tres ministros del Tribunal de Cuentas, tres cargos en el Parlamento (prosecretario de la Cámara de Diputados, de la Cámara de Senadores y de la Comisión Administradora) y un cargo (en su mayoría, de director) para cada una de las siguientes empresas, entes e instituciones públicas: UTE, Ancap, Antel, OSE, AFE, Administración Nacional de Correos, Instituto Nacional de Colonización, Banco Central del Uruguay, Banco República, Banco de Seguros, Administración Nacional de Puertos, Agencia Nacional de Vivienda, Banco Hipotecario, Instituto Nacional de Inclusión Social Adolescente, Unidad Reguladora de Servicios de Energía y Agua, Unidad Reguladora de Servicios de Comunicaciones, Corporación Nacional para el Desarrollo, Instituto Nacional de Evaluación Educativa, Comisión Técnica Mixta del Frente Marítimo (delegado), Comisión Administradora del Río de la Plata (delegado) y Junta de Transparencia y Ética Pública (vocal).\n",
      "\n",
      "Al finalizar la reunión, que duró cerca de 40 minutos, Delgado destacó en una rueda de prensa la convocatoria del gobierno electo, porque “es una linda costumbre que tiene el Uruguay” desde hace muchas administraciones que la oposición “tenga lugares de responsabilidad para el contralor de los diferentes organismos del Estado y también para proponer”. Señaló que la propuesta del gobierno electo quedó para que cada partido la estudie “y para hacer una contrapropuesta”, algo que harán en conjunto los partidos que decidieron participar en los cargos de la oposición, es decir, el PN, el PC, CA y el PI.\n",
      "\n",
      "“Así que en estos días, y seguramente a la brevedad, después de que cada uno hable con su partido, estaremos elaborando en forma conjunta una contrapropuesta para el gobierno electo, para rápidamente ponernos de acuerdo y que vayan las venias correspondientes”, sostuvo.\n",
      "\n",
      "Consultado sobre qué incluirá la contrapropuesta, Delgado adelantó que plantearán “diferentes responsabilidades, que no están consideradas hoy”, así como “algunos enfoques diferentes”. Subrayó que el gobierno entrante, a diferencia de los anteriores, “no tiene mayoría parlamentaria”, por lo tanto, ese dato “también debe reflejar la voluntad de acordar una integración en las responsabilidades por parte de la oposición”.\n",
      "\n",
      "De todos modos, Delgado dijo que “hacer una lista hoy” sobre los cargos que piensan que faltan “no sería del todo prudente, sobre todo porque cada uno va a informar a sus partidos” y luego se reunirán los representantes de cada uno de los partidos de la coalición para hacerlo en forma conjunta, insistió.\n",
      "\n",
      "Por su parte, Ojeda subrayó en rueda de prensa que la reunión fue “el primer cara a cara” que tienen “con los jugadores clave” del gobierno electo, por lo tanto, este lunes inauguraron “un espacio de conversación”. Ojeda también destacó los cargos para la oposición, porque esto “transparenta el funcionamiento de las cosas y permite proponer”. “Incluso, cuando el director de la oposición respalda una política, es el respaldo de todo el sistema. Yo creo que es una buena práctica democrática, y está bueno que las principales figuras de los partidos políticos legitimemos el espacio como corresponde”, sostuvo.\n",
      "\n",
      "Todos los asistentes a la reunión por la oposición hablaron con la prensa a la salida de la reunión, menos Manini Ríos, que se fue por la parte trasera de la sede sin dar declaraciones.\n"
     ]
    }
   ],
   "source": [
    "print(markdwon)"
   ]
  },
  {
   "cell_type": "code",
   "execution_count": 7,
   "metadata": {},
   "outputs": [],
   "source": [
    "google_flash = \"openrouter/mistralai/mistral-saba\""
   ]
  },
  {
   "cell_type": "code",
   "execution_count": 25,
   "metadata": {},
   "outputs": [],
   "source": [
    "dolphin = \"openrouter/perplexity/r1-1776\""
   ]
  },
  {
   "cell_type": "code",
   "execution_count": 26,
   "metadata": {},
   "outputs": [],
   "source": [
    "md2 = parse.parse_noticia_markdown(html, metadata[\"title\"], dolphin)"
   ]
  },
  {
   "cell_type": "code",
   "execution_count": 27,
   "metadata": {},
   "outputs": [
    {
     "name": "stdout",
     "output_type": "stream",
     "text": [
      "```markdown\n",
      "# Gobierno electo le ofreció 34 cargos a la oposición y la coalición se reunirá para hacer una contrapropuesta\n",
      "\n",
      "## El senador blanco Álvaro Delgado adelantó que plantearán “diferentes responsabilidades, que no están consideradas hoy”, así como “algunos enfoques diferentes”\n",
      "\n",
      "**Fuente:** la diaria  \n",
      "**Publicado el:** 24 de febrero de 2025  \n",
      "\n",
      "Este lunes, en la sede de la transición de gobierno, el edificio Plaza Alemania, el futuro secretario de Presidencia, Alejandro Sánchez, y el próximo prosecretario de Presidencia, Jorge Díaz, recibieron a los representantes de los partidos de la oposición para hacer oficial la propuesta de cargos. A la reunión asistieron el senador y excandidato Álvaro Delgado, por el Partido Nacional (PN), el senador y secretario general del Partido Colorado (PC), Andrés Ojeda, el exsenador Guido Manini Ríos, líder de Cabildo Abierto (CA), Pablo Mieres, líder del Partido Independiente, y el diputado Gustavo Salle, líder de Identidad Soberana. Este último informó que no aceptará cargos.\n",
      "\n",
      "El gobierno electo ofreció a la oposición 34 cargos: seis en la Corte Electoral (cuatro ministros, un secretario letrado y un subdirector de la Oficina Nacional), tres ministros del Tribunal de Cuentas, tres cargos en el Parlamento (prosecretario de la Cámara de Diputados, de la Cámara de Senadores y de la Comisión Administradora) y un cargo (en su mayoría, de director) para cada empresa pública: UTE, Ancap, Antel, OSE AFE Administración Nacional Correos Instituto Nacional Colonización Banco Central Banco República Banco Seguros ANP Agencia Nacional Vivienda Inisa Uresea Ursec CND Ineed CTM Frente Marítimo CARP JUTEP.\n",
      "\n",
      "Álvaro Delgado destacó que estarán elaborando una contrapropuesta articulada entre PN PC CA PI:  \n",
      "_“Seguramente a la brevedad [...] estaremos elaborando en forma conjunta una contrapropuesta para acordar rapidamente las venias parlamentarias”._ Además señaló que será necesario incorporar responsabilidades no contempladas bajo interpretación _\"del rol democrático que implica no tener mayoría parlamentaria\"_.  \n",
      "\n",
      "Andrés Ojeda resaltó que esta práctica \"transparenta funcionamiento del Estado\": _\"Cuando un director respalda política desde oposición legitima sistemáticamente\"._  \n",
      "\n",
      "Guido Manini Ríos abandonó sede sin declarar posición oficial.\n",
      "```\n"
     ]
    }
   ],
   "source": [
    "print(md2)"
   ]
  },
  {
   "cell_type": "code",
   "execution_count": 31,
   "metadata": {},
   "outputs": [
    {
     "name": "stdout",
     "output_type": "stream",
     "text": [
      "{'titulo': 'Gobierno electo le ofreció 34 cargos a la oposición y la coalición se reunirá para hacer una contrapropuesta', 'fuente': 'la diaria', 'categoria': 'politica', 'autor': None, 'resumen': 'El gobierno electo ofreció 34 cargos a la oposición en una reunión en la sede de la transición de gobierno. Los representantes de los partidos de la oposición asistieron y discutieron la propuesta. La oposición se reunirá para hacer una contrapropuesta.', 'entidades': [{'nombre': 'Alejandro Sánchez', 'tipo': 'persona', 'sentimiento': 'neutral'}, {'nombre': 'Jorge Díaz', 'tipo': 'persona', 'sentimiento': 'neutral'}, {'nombre': 'Álvaro Delgado', 'tipo': 'persona', 'sentimiento': 'neutral'}, {'nombre': 'Andrés Ojeda', 'tipo': 'persona', 'sentimiento': 'neutral'}, {'nombre': 'Guido Manini Ríos', 'tipo': 'persona', 'sentimiento': 'neutral'}, {'nombre': 'Pablo Mieres', 'tipo': 'persona', 'sentimiento': 'neutral'}, {'nombre': 'Gustavo Salle', 'tipo': 'persona', 'sentimiento': 'neutral'}, {'nombre': 'Partido Nacional', 'tipo': 'organizacion', 'sentimiento': 'neutral'}, {'nombre': 'Partido Colorado', 'tipo': 'organizacion', 'sentimiento': 'neutral'}, {'nombre': 'Cabildo Abierto', 'tipo': 'organizacion', 'sentimiento': 'neutral'}, {'nombre': 'Partido Independiente', 'tipo': 'organizacion', 'sentimiento': 'neutral'}, {'nombre': 'Identidad Soberana', 'tipo': 'organizacion', 'sentimiento': 'neutral'}, {'nombre': 'Corte Electoral', 'tipo': 'organizacion', 'sentimiento': 'neutral'}, {'nombre': 'Tribunal de Cuentas', 'tipo': 'organizacion', 'sentimiento': 'neutral'}, {'nombre': 'UTE', 'tipo': 'organizacion', 'sentimiento': 'neutral'}, {'nombre': 'Ancap', 'tipo': 'organizacion', 'sentimiento': 'neutral'}, {'nombre': 'Antel', 'tipo': 'organizacion', 'sentimiento': 'neutral'}, {'nombre': 'OSE', 'tipo': 'organizacion', 'sentimiento': 'neutral'}, {'nombre': 'AFE', 'tipo': 'organizacion', 'sentimiento': 'neutral'}, {'nombre': 'Administración Nacional de Correos', 'tipo': 'organizacion', 'sentimiento': 'neutral'}, {'nombre': 'Instituto Nacional de Colonización', 'tipo': 'organizacion', 'sentimiento': 'neutral'}, {'nombre': 'Banco Central del Uruguay', 'tipo': 'organizacion', 'sentimiento': 'neutral'}, {'nombre': 'Banco República', 'tipo': 'organizacion', 'sentimiento': 'neutral'}, {'nombre': 'Banco de Seguros', 'tipo': 'organizacion', 'sentimiento': 'neutral'}, {'nombre': 'Administración Nacional de Puertos', 'tipo': 'organizacion', 'sentimiento': 'neutral'}, {'nombre': 'Agencia Nacional de Vivienda', 'tipo': 'organizacion', 'sentimiento': 'neutral'}, {'nombre': 'Banco Hipotecario', 'tipo': 'organizacion', 'sentimiento': 'neutral'}, {'nombre': 'Instituto Nacional de Inclusión Social Adolescente', 'tipo': 'organizacion', 'sentimiento': 'neutral'}, {'nombre': 'Unidad Reguladora de Servicios de Energía y Agua', 'tipo': 'organizacion', 'sentimiento': 'neutral'}, {'nombre': 'Unidad Reguladora de Servicios de Comunicaciones', 'tipo': 'organizacion', 'sentimiento': 'neutral'}, {'nombre': 'Corporación Nacional para el Desarrollo', 'tipo': 'organizacion', 'sentimiento': 'neutral'}, {'nombre': 'Instituto Nacional de Evaluación Educativa', 'tipo': 'organizacion', 'sentimiento': 'neutral'}, {'nombre': 'Comisión Técnica Mixta del Frente Marítimo', 'tipo': 'organizacion', 'sentimiento': 'neutral'}, {'nombre': 'Comisión Administradora del Río de la Plata', 'tipo': 'organizacion', 'sentimiento': 'neutral'}, {'nombre': 'Junta de Transparencia y Ética Pública', 'tipo': 'organizacion', 'sentimiento': 'neutral'}]}\n"
     ]
    }
   ],
   "source": [
    "res_flash = parse.parse_noticia(markdwon, google_flash)\n",
    "print(res_flash.model_dump())"
   ]
  },
  {
   "cell_type": "code",
   "execution_count": null,
   "metadata": {},
   "outputs": [
    {
     "name": "stdout",
     "output_type": "stream",
     "text": [
      "{'titulo': 'Gobierno electo le ofreció 34 cargos a la oposición y la coalición se reunirá para hacer una contrapropuesta', 'fuente': 'la diaria', 'categoria': None, 'autor': None, 'resumen': 'El senador blanco Álvaro Delgado adelantó que plantearán “diferentes responsabilidades, que no están consideradas hoy”, así como “algunos enfoques diferentes”', 'entidades': [{'nombre': 'Álvaro Delgado', 'tipo': 'persona', 'sentimiento': 'neutral'}, {'nombre': 'Alejandro Sánchez', 'tipo': 'persona', 'sentimiento': 'neutral'}, {'nombre': 'Jorge Díaz', 'tipo': 'persona', 'sentimiento': 'neutral'}, {'nombre': 'Andrés Ojeda', 'tipo': 'persona', 'sentimiento': 'neutral'}, {'nombre': 'Guido Manini Ríos', 'tipo': 'persona', 'sentimiento': 'neutral'}, {'nombre': 'Pablo Mieres', 'tipo': 'persona', 'sentimiento': 'neutral'}, {'nombre': 'Gustavo Salle', 'tipo': 'persona', 'sentimiento': 'neutral'}, {'nombre': 'Partido Nacional', 'tipo': 'organizacion', 'sentimiento': 'neutral'}, {'nombre': 'Partido Colorado', 'tipo': 'organizacion', 'sentimiento': 'neutral'}, {'nombre': 'Cabildo Abierto', 'tipo': 'organizacion', 'sentimiento': 'neutral'}, {'nombre': 'Partido Independiente', 'tipo': 'organizacion', 'sentimiento': 'neutral'}]}\n"
     ]
    }
   ],
   "source": [
    "res_o3 = parse.parse_noticia(markdown=markdwon)\n",
    "print(res_o3.model_dump())"
   ]
  },
  {
   "cell_type": "code",
   "execution_count": null,
   "metadata": {},
   "outputs": [
    {
     "ename": "KeyboardInterrupt",
     "evalue": "",
     "output_type": "error",
     "traceback": [
      "\u001b[0;31m---------------------------------------------------------------------------\u001b[0m",
      "\u001b[0;31mKeyboardInterrupt\u001b[0m                         Traceback (most recent call last)",
      "Cell \u001b[0;32mIn[25], line 2\u001b[0m\n\u001b[1;32m      1\u001b[0m deep \u001b[38;5;241m=\u001b[39m  \u001b[38;5;124m\"\u001b[39m\u001b[38;5;124mopenrouter/deepseek/deepseek-r1\u001b[39m\u001b[38;5;124m\"\u001b[39m\n\u001b[0;32m----> 2\u001b[0m res_deep \u001b[38;5;241m=\u001b[39m \u001b[43mparse\u001b[49m\u001b[38;5;241;43m.\u001b[39;49m\u001b[43mparse_noticia\u001b[49m\u001b[43m(\u001b[49m\u001b[43mmarkdown\u001b[49m\u001b[38;5;241;43m=\u001b[39;49m\u001b[43mmarkdwon\u001b[49m\u001b[43m,\u001b[49m\u001b[43m \u001b[49m\u001b[43mmodel\u001b[49m\u001b[38;5;241;43m=\u001b[39;49m\u001b[43mdeep\u001b[49m\u001b[43m)\u001b[49m\n\u001b[1;32m      3\u001b[0m \u001b[38;5;28mprint\u001b[39m(res_deep\u001b[38;5;241m.\u001b[39mmodel_dump())\n",
      "File \u001b[0;32m~/Projects/memoria.uy/memoria/core/parse.py:93\u001b[0m, in \u001b[0;36mparse_noticia\u001b[0;34m(markdown, model)\u001b[0m\n\u001b[1;32m     89\u001b[0m \u001b[38;5;250m\u001b[39m\u001b[38;5;124;03m\"\"\"\u001b[39;00m\n\u001b[1;32m     90\u001b[0m \u001b[38;5;124;03mReturn the parsed article from the given HTML content.\u001b[39;00m\n\u001b[1;32m     91\u001b[0m \u001b[38;5;124;03m\"\"\"\u001b[39;00m\n\u001b[1;32m     92\u001b[0m \u001b[38;5;28;01mtry\u001b[39;00m:\n\u001b[0;32m---> 93\u001b[0m     response \u001b[38;5;241m=\u001b[39m \u001b[43mcompletion\u001b[49m\u001b[43m(\u001b[49m\n\u001b[1;32m     94\u001b[0m \u001b[43m        \u001b[49m\u001b[43mmodel\u001b[49m\u001b[38;5;241;43m=\u001b[39;49m\u001b[43mmodel\u001b[49m\u001b[43m,\u001b[49m\n\u001b[1;32m     95\u001b[0m \u001b[43m        \u001b[49m\u001b[43mcaching\u001b[49m\u001b[38;5;241;43m=\u001b[39;49m\u001b[38;5;28;43;01mTrue\u001b[39;49;00m\u001b[43m,\u001b[49m\n\u001b[1;32m     96\u001b[0m \u001b[43m        \u001b[49m\u001b[43mresponse_format\u001b[49m\u001b[38;5;241;43m=\u001b[39;49m\u001b[43mArticulo\u001b[49m\u001b[43m,\u001b[49m\n\u001b[1;32m     97\u001b[0m \u001b[43m        \u001b[49m\u001b[43mmessages\u001b[49m\u001b[38;5;241;43m=\u001b[39;49m\u001b[43m[\u001b[49m\n\u001b[1;32m     98\u001b[0m \u001b[43m            \u001b[49m\u001b[43m{\u001b[49m\n\u001b[1;32m     99\u001b[0m \u001b[43m                \u001b[49m\u001b[38;5;124;43m\"\u001b[39;49m\u001b[38;5;124;43mrole\u001b[39;49m\u001b[38;5;124;43m\"\u001b[39;49m\u001b[43m:\u001b[49m\u001b[43m \u001b[49m\u001b[38;5;124;43m\"\u001b[39;49m\u001b[38;5;124;43msystem\u001b[39;49m\u001b[38;5;124;43m\"\u001b[39;49m\u001b[43m,\u001b[49m\n\u001b[1;32m    100\u001b[0m \u001b[43m                \u001b[49m\u001b[38;5;124;43m\"\u001b[39;49m\u001b[38;5;124;43mcontent\u001b[39;49m\u001b[38;5;124;43m\"\u001b[39;49m\u001b[43m:\u001b[49m\u001b[43m \u001b[49m\u001b[38;5;124;43m\"\u001b[39;49m\u001b[38;5;124;43mYou are a helpful html parser designed to output JSON.\u001b[39;49m\u001b[38;5;124;43m\"\u001b[39;49m\u001b[43m,\u001b[49m\n\u001b[1;32m    101\u001b[0m \u001b[43m            \u001b[49m\u001b[43m}\u001b[49m\u001b[43m,\u001b[49m\n\u001b[1;32m    102\u001b[0m \u001b[43m            \u001b[49m\u001b[43m{\u001b[49m\n\u001b[1;32m    103\u001b[0m \u001b[43m                \u001b[49m\u001b[38;5;124;43m\"\u001b[39;49m\u001b[38;5;124;43mrole\u001b[39;49m\u001b[38;5;124;43m\"\u001b[39;49m\u001b[43m:\u001b[49m\u001b[43m \u001b[49m\u001b[38;5;124;43m\"\u001b[39;49m\u001b[38;5;124;43muser\u001b[39;49m\u001b[38;5;124;43m\"\u001b[39;49m\u001b[43m,\u001b[49m\n\u001b[1;32m    104\u001b[0m \u001b[43m                \u001b[49m\u001b[38;5;124;43m\"\u001b[39;49m\u001b[38;5;124;43mcontent\u001b[39;49m\u001b[38;5;124;43m\"\u001b[39;49m\u001b[43m:\u001b[49m\u001b[43m \u001b[49m\u001b[38;5;124;43mf\u001b[39;49m\u001b[38;5;124;43m\"\"\"\u001b[39;49m\u001b[38;5;124;43mFrom the crawled content, metadata about the news article should be extracted.\u001b[39;49m\n\u001b[1;32m    105\u001b[0m \u001b[38;5;124;43m                The metadata should include the title, source, category, author, and entities mentioned in the article.\u001b[39;49m\n\u001b[1;32m    106\u001b[0m \u001b[38;5;124;43m                The entities should include the name, type, and sentiment of each entity.\u001b[39;49m\n\u001b[1;32m    107\u001b[0m \u001b[38;5;124;43m                The Markdown content to parse is as follows:\u001b[39;49m\n\u001b[1;32m    108\u001b[0m \u001b[38;5;124;43m            \u001b[39;49m\n\u001b[1;32m    109\u001b[0m \u001b[38;5;124;43m            \u001b[39;49m\u001b[38;5;132;43;01m{\u001b[39;49;00m\u001b[43mmarkdown\u001b[49m\u001b[38;5;132;43;01m}\u001b[39;49;00m\u001b[38;5;124;43m\"\"\"\u001b[39;49m\u001b[43m,\u001b[49m\n\u001b[1;32m    110\u001b[0m \u001b[43m            \u001b[49m\u001b[43m}\u001b[49m\u001b[43m,\u001b[49m\n\u001b[1;32m    111\u001b[0m \u001b[43m        \u001b[49m\u001b[43m]\u001b[49m\u001b[43m,\u001b[49m\n\u001b[1;32m    112\u001b[0m \u001b[43m    \u001b[49m\u001b[43m)\u001b[49m\n\u001b[1;32m    113\u001b[0m     article_data \u001b[38;5;241m=\u001b[39m response\u001b[38;5;241m.\u001b[39mchoices[\u001b[38;5;241m0\u001b[39m]\u001b[38;5;241m.\u001b[39mmessage\u001b[38;5;241m.\u001b[39mcontent\n\u001b[1;32m    114\u001b[0m     \u001b[38;5;28;01mreturn\u001b[39;00m Articulo\u001b[38;5;241m.\u001b[39mparse_raw(article_data)\n",
      "File \u001b[0;32m~/Library/Caches/pypoetry/virtualenvs/memoria-LKcHpmhp-py3.10/lib/python3.10/site-packages/litellm/utils.py:1068\u001b[0m, in \u001b[0;36mclient.<locals>.wrapper\u001b[0;34m(*args, **kwargs)\u001b[0m\n\u001b[1;32m   1066\u001b[0m         print_verbose(\u001b[38;5;124mf\u001b[39m\u001b[38;5;124m\"\u001b[39m\u001b[38;5;124mError while checking max token limit: \u001b[39m\u001b[38;5;132;01m{\u001b[39;00m\u001b[38;5;28mstr\u001b[39m(e)\u001b[38;5;132;01m}\u001b[39;00m\u001b[38;5;124m\"\u001b[39m)\n\u001b[1;32m   1067\u001b[0m \u001b[38;5;66;03m# MODEL CALL\u001b[39;00m\n\u001b[0;32m-> 1068\u001b[0m result \u001b[38;5;241m=\u001b[39m \u001b[43moriginal_function\u001b[49m\u001b[43m(\u001b[49m\u001b[38;5;241;43m*\u001b[39;49m\u001b[43margs\u001b[49m\u001b[43m,\u001b[49m\u001b[43m \u001b[49m\u001b[38;5;241;43m*\u001b[39;49m\u001b[38;5;241;43m*\u001b[39;49m\u001b[43mkwargs\u001b[49m\u001b[43m)\u001b[49m\n\u001b[1;32m   1069\u001b[0m end_time \u001b[38;5;241m=\u001b[39m datetime\u001b[38;5;241m.\u001b[39mdatetime\u001b[38;5;241m.\u001b[39mnow()\n\u001b[1;32m   1070\u001b[0m \u001b[38;5;28;01mif\u001b[39;00m \u001b[38;5;124m\"\u001b[39m\u001b[38;5;124mstream\u001b[39m\u001b[38;5;124m\"\u001b[39m \u001b[38;5;129;01min\u001b[39;00m kwargs \u001b[38;5;129;01mand\u001b[39;00m kwargs[\u001b[38;5;124m\"\u001b[39m\u001b[38;5;124mstream\u001b[39m\u001b[38;5;124m\"\u001b[39m] \u001b[38;5;129;01mis\u001b[39;00m \u001b[38;5;28;01mTrue\u001b[39;00m:\n",
      "File \u001b[0;32m~/Library/Caches/pypoetry/virtualenvs/memoria-LKcHpmhp-py3.10/lib/python3.10/site-packages/litellm/main.py:2269\u001b[0m, in \u001b[0;36mcompletion\u001b[0;34m(model, messages, timeout, temperature, top_p, n, stream, stream_options, stop, max_completion_tokens, max_tokens, modalities, prediction, audio, presence_penalty, frequency_penalty, logit_bias, user, reasoning_effort, response_format, seed, tools, tool_choice, logprobs, top_logprobs, parallel_tool_calls, deployment_id, extra_headers, functions, function_call, base_url, api_version, api_key, model_list, **kwargs)\u001b[0m\n\u001b[1;32m   2266\u001b[0m data \u001b[38;5;241m=\u001b[39m {\u001b[38;5;124m\"\u001b[39m\u001b[38;5;124mmodel\u001b[39m\u001b[38;5;124m\"\u001b[39m: model, \u001b[38;5;124m\"\u001b[39m\u001b[38;5;124mmessages\u001b[39m\u001b[38;5;124m\"\u001b[39m: messages, \u001b[38;5;241m*\u001b[39m\u001b[38;5;241m*\u001b[39moptional_params}\n\u001b[1;32m   2268\u001b[0m \u001b[38;5;66;03m## COMPLETION CALL\u001b[39;00m\n\u001b[0;32m-> 2269\u001b[0m response \u001b[38;5;241m=\u001b[39m \u001b[43mopenai_like_chat_completion\u001b[49m\u001b[38;5;241;43m.\u001b[39;49m\u001b[43mcompletion\u001b[49m\u001b[43m(\u001b[49m\n\u001b[1;32m   2270\u001b[0m \u001b[43m    \u001b[49m\u001b[43mmodel\u001b[49m\u001b[38;5;241;43m=\u001b[39;49m\u001b[43mmodel\u001b[49m\u001b[43m,\u001b[49m\n\u001b[1;32m   2271\u001b[0m \u001b[43m    \u001b[49m\u001b[43mmessages\u001b[49m\u001b[38;5;241;43m=\u001b[39;49m\u001b[43mmessages\u001b[49m\u001b[43m,\u001b[49m\n\u001b[1;32m   2272\u001b[0m \u001b[43m    \u001b[49m\u001b[43mheaders\u001b[49m\u001b[38;5;241;43m=\u001b[39;49m\u001b[43mheaders\u001b[49m\u001b[43m,\u001b[49m\n\u001b[1;32m   2273\u001b[0m \u001b[43m    \u001b[49m\u001b[43mapi_key\u001b[49m\u001b[38;5;241;43m=\u001b[39;49m\u001b[43mapi_key\u001b[49m\u001b[43m,\u001b[49m\n\u001b[1;32m   2274\u001b[0m \u001b[43m    \u001b[49m\u001b[43mapi_base\u001b[49m\u001b[38;5;241;43m=\u001b[39;49m\u001b[43mapi_base\u001b[49m\u001b[43m,\u001b[49m\n\u001b[1;32m   2275\u001b[0m \u001b[43m    \u001b[49m\u001b[43mmodel_response\u001b[49m\u001b[38;5;241;43m=\u001b[39;49m\u001b[43mmodel_response\u001b[49m\u001b[43m,\u001b[49m\n\u001b[1;32m   2276\u001b[0m \u001b[43m    \u001b[49m\u001b[43mprint_verbose\u001b[49m\u001b[38;5;241;43m=\u001b[39;49m\u001b[43mprint_verbose\u001b[49m\u001b[43m,\u001b[49m\n\u001b[1;32m   2277\u001b[0m \u001b[43m    \u001b[49m\u001b[43moptional_params\u001b[49m\u001b[38;5;241;43m=\u001b[39;49m\u001b[43moptional_params\u001b[49m\u001b[43m,\u001b[49m\n\u001b[1;32m   2278\u001b[0m \u001b[43m    \u001b[49m\u001b[43mlitellm_params\u001b[49m\u001b[38;5;241;43m=\u001b[39;49m\u001b[43mlitellm_params\u001b[49m\u001b[43m,\u001b[49m\n\u001b[1;32m   2279\u001b[0m \u001b[43m    \u001b[49m\u001b[43mlogger_fn\u001b[49m\u001b[38;5;241;43m=\u001b[39;49m\u001b[43mlogger_fn\u001b[49m\u001b[43m,\u001b[49m\n\u001b[1;32m   2280\u001b[0m \u001b[43m    \u001b[49m\u001b[43mlogging_obj\u001b[49m\u001b[38;5;241;43m=\u001b[39;49m\u001b[43mlogging\u001b[49m\u001b[43m,\u001b[49m\n\u001b[1;32m   2281\u001b[0m \u001b[43m    \u001b[49m\u001b[43macompletion\u001b[49m\u001b[38;5;241;43m=\u001b[39;49m\u001b[43macompletion\u001b[49m\u001b[43m,\u001b[49m\n\u001b[1;32m   2282\u001b[0m \u001b[43m    \u001b[49m\u001b[43mtimeout\u001b[49m\u001b[38;5;241;43m=\u001b[39;49m\u001b[43mtimeout\u001b[49m\u001b[43m,\u001b[49m\u001b[43m  \u001b[49m\u001b[38;5;66;43;03m# type: ignore\u001b[39;49;00m\n\u001b[1;32m   2283\u001b[0m \u001b[43m    \u001b[49m\u001b[43mcustom_llm_provider\u001b[49m\u001b[38;5;241;43m=\u001b[39;49m\u001b[38;5;124;43m\"\u001b[39;49m\u001b[38;5;124;43mopenrouter\u001b[39;49m\u001b[38;5;124;43m\"\u001b[39;49m\u001b[43m,\u001b[49m\n\u001b[1;32m   2284\u001b[0m \u001b[43m    \u001b[49m\u001b[43mcustom_prompt_dict\u001b[49m\u001b[38;5;241;43m=\u001b[39;49m\u001b[43mcustom_prompt_dict\u001b[49m\u001b[43m,\u001b[49m\n\u001b[1;32m   2285\u001b[0m \u001b[43m    \u001b[49m\u001b[43mencoding\u001b[49m\u001b[38;5;241;43m=\u001b[39;49m\u001b[43mencoding\u001b[49m\u001b[43m,\u001b[49m\n\u001b[1;32m   2286\u001b[0m \u001b[43m\u001b[49m\u001b[43m)\u001b[49m\n\u001b[1;32m   2287\u001b[0m \u001b[38;5;66;03m## LOGGING\u001b[39;00m\n\u001b[1;32m   2288\u001b[0m logging\u001b[38;5;241m.\u001b[39mpost_call(\n\u001b[1;32m   2289\u001b[0m     \u001b[38;5;28minput\u001b[39m\u001b[38;5;241m=\u001b[39mmessages, api_key\u001b[38;5;241m=\u001b[39mopenai\u001b[38;5;241m.\u001b[39mapi_key, original_response\u001b[38;5;241m=\u001b[39mresponse\n\u001b[1;32m   2290\u001b[0m )\n",
      "File \u001b[0;32m~/Library/Caches/pypoetry/virtualenvs/memoria-LKcHpmhp-py3.10/lib/python3.10/site-packages/litellm/llms/openai_like/chat/handler.py:372\u001b[0m, in \u001b[0;36mOpenAILikeChatHandler.completion\u001b[0;34m(self, model, messages, api_base, custom_llm_provider, custom_prompt_dict, model_response, print_verbose, encoding, api_key, logging_obj, optional_params, acompletion, litellm_params, logger_fn, headers, timeout, client, custom_endpoint, streaming_decoder, fake_stream)\u001b[0m\n\u001b[1;32m    370\u001b[0m     client \u001b[38;5;241m=\u001b[39m HTTPHandler(timeout\u001b[38;5;241m=\u001b[39mtimeout)  \u001b[38;5;66;03m# type: ignore\u001b[39;00m\n\u001b[1;32m    371\u001b[0m \u001b[38;5;28;01mtry\u001b[39;00m:\n\u001b[0;32m--> 372\u001b[0m     response \u001b[38;5;241m=\u001b[39m \u001b[43mclient\u001b[49m\u001b[38;5;241;43m.\u001b[39;49m\u001b[43mpost\u001b[49m\u001b[43m(\u001b[49m\n\u001b[1;32m    373\u001b[0m \u001b[43m        \u001b[49m\u001b[43murl\u001b[49m\u001b[38;5;241;43m=\u001b[39;49m\u001b[43mapi_base\u001b[49m\u001b[43m,\u001b[49m\u001b[43m \u001b[49m\u001b[43mheaders\u001b[49m\u001b[38;5;241;43m=\u001b[39;49m\u001b[43mheaders\u001b[49m\u001b[43m,\u001b[49m\u001b[43m \u001b[49m\u001b[43mdata\u001b[49m\u001b[38;5;241;43m=\u001b[39;49m\u001b[43mjson\u001b[49m\u001b[38;5;241;43m.\u001b[39;49m\u001b[43mdumps\u001b[49m\u001b[43m(\u001b[49m\u001b[43mdata\u001b[49m\u001b[43m)\u001b[49m\n\u001b[1;32m    374\u001b[0m \u001b[43m    \u001b[49m\u001b[43m)\u001b[49m\n\u001b[1;32m    375\u001b[0m     response\u001b[38;5;241m.\u001b[39mraise_for_status()\n\u001b[1;32m    377\u001b[0m \u001b[38;5;28;01mexcept\u001b[39;00m httpx\u001b[38;5;241m.\u001b[39mHTTPStatusError \u001b[38;5;28;01mas\u001b[39;00m e:\n",
      "File \u001b[0;32m~/Library/Caches/pypoetry/virtualenvs/memoria-LKcHpmhp-py3.10/lib/python3.10/site-packages/litellm/llms/custom_httpx/http_handler.py:537\u001b[0m, in \u001b[0;36mHTTPHandler.post\u001b[0;34m(self, url, data, json, params, headers, stream, timeout, files, content, logging_obj)\u001b[0m\n\u001b[1;32m    533\u001b[0m \u001b[38;5;28;01melse\u001b[39;00m:\n\u001b[1;32m    534\u001b[0m     req \u001b[38;5;241m=\u001b[39m \u001b[38;5;28mself\u001b[39m\u001b[38;5;241m.\u001b[39mclient\u001b[38;5;241m.\u001b[39mbuild_request(\n\u001b[1;32m    535\u001b[0m         \u001b[38;5;124m\"\u001b[39m\u001b[38;5;124mPOST\u001b[39m\u001b[38;5;124m\"\u001b[39m, url, data\u001b[38;5;241m=\u001b[39mdata, json\u001b[38;5;241m=\u001b[39mjson, params\u001b[38;5;241m=\u001b[39mparams, headers\u001b[38;5;241m=\u001b[39mheaders, files\u001b[38;5;241m=\u001b[39mfiles, content\u001b[38;5;241m=\u001b[39mcontent  \u001b[38;5;66;03m# type: ignore\u001b[39;00m\n\u001b[1;32m    536\u001b[0m     )\n\u001b[0;32m--> 537\u001b[0m response \u001b[38;5;241m=\u001b[39m \u001b[38;5;28;43mself\u001b[39;49m\u001b[38;5;241;43m.\u001b[39;49m\u001b[43mclient\u001b[49m\u001b[38;5;241;43m.\u001b[39;49m\u001b[43msend\u001b[49m\u001b[43m(\u001b[49m\u001b[43mreq\u001b[49m\u001b[43m,\u001b[49m\u001b[43m \u001b[49m\u001b[43mstream\u001b[49m\u001b[38;5;241;43m=\u001b[39;49m\u001b[43mstream\u001b[49m\u001b[43m)\u001b[49m\n\u001b[1;32m    538\u001b[0m response\u001b[38;5;241m.\u001b[39mraise_for_status()\n\u001b[1;32m    539\u001b[0m \u001b[38;5;28;01mreturn\u001b[39;00m response\n",
      "File \u001b[0;32m~/Library/Caches/pypoetry/virtualenvs/memoria-LKcHpmhp-py3.10/lib/python3.10/site-packages/httpx/_client.py:940\u001b[0m, in \u001b[0;36mClient.send\u001b[0;34m(self, request, stream, auth, follow_redirects)\u001b[0m\n\u001b[1;32m    938\u001b[0m \u001b[38;5;28;01mexcept\u001b[39;00m \u001b[38;5;167;01mBaseException\u001b[39;00m \u001b[38;5;28;01mas\u001b[39;00m exc:\n\u001b[1;32m    939\u001b[0m     response\u001b[38;5;241m.\u001b[39mclose()\n\u001b[0;32m--> 940\u001b[0m     \u001b[38;5;28;01mraise\u001b[39;00m exc\n",
      "File \u001b[0;32m~/Library/Caches/pypoetry/virtualenvs/memoria-LKcHpmhp-py3.10/lib/python3.10/site-packages/httpx/_client.py:934\u001b[0m, in \u001b[0;36mClient.send\u001b[0;34m(self, request, stream, auth, follow_redirects)\u001b[0m\n\u001b[1;32m    932\u001b[0m \u001b[38;5;28;01mtry\u001b[39;00m:\n\u001b[1;32m    933\u001b[0m     \u001b[38;5;28;01mif\u001b[39;00m \u001b[38;5;129;01mnot\u001b[39;00m stream:\n\u001b[0;32m--> 934\u001b[0m         \u001b[43mresponse\u001b[49m\u001b[38;5;241;43m.\u001b[39;49m\u001b[43mread\u001b[49m\u001b[43m(\u001b[49m\u001b[43m)\u001b[49m\n\u001b[1;32m    936\u001b[0m     \u001b[38;5;28;01mreturn\u001b[39;00m response\n\u001b[1;32m    938\u001b[0m \u001b[38;5;28;01mexcept\u001b[39;00m \u001b[38;5;167;01mBaseException\u001b[39;00m \u001b[38;5;28;01mas\u001b[39;00m exc:\n",
      "File \u001b[0;32m~/Library/Caches/pypoetry/virtualenvs/memoria-LKcHpmhp-py3.10/lib/python3.10/site-packages/httpx/_models.py:815\u001b[0m, in \u001b[0;36mResponse.read\u001b[0;34m(self)\u001b[0m\n\u001b[1;32m    811\u001b[0m \u001b[38;5;250m\u001b[39m\u001b[38;5;124;03m\"\"\"\u001b[39;00m\n\u001b[1;32m    812\u001b[0m \u001b[38;5;124;03mRead and return the response content.\u001b[39;00m\n\u001b[1;32m    813\u001b[0m \u001b[38;5;124;03m\"\"\"\u001b[39;00m\n\u001b[1;32m    814\u001b[0m \u001b[38;5;28;01mif\u001b[39;00m \u001b[38;5;129;01mnot\u001b[39;00m \u001b[38;5;28mhasattr\u001b[39m(\u001b[38;5;28mself\u001b[39m, \u001b[38;5;124m\"\u001b[39m\u001b[38;5;124m_content\u001b[39m\u001b[38;5;124m\"\u001b[39m):\n\u001b[0;32m--> 815\u001b[0m     \u001b[38;5;28mself\u001b[39m\u001b[38;5;241m.\u001b[39m_content \u001b[38;5;241m=\u001b[39m \u001b[38;5;124;43mb\u001b[39;49m\u001b[38;5;124;43m\"\u001b[39;49m\u001b[38;5;124;43m\"\u001b[39;49m\u001b[38;5;241;43m.\u001b[39;49m\u001b[43mjoin\u001b[49m\u001b[43m(\u001b[49m\u001b[38;5;28;43mself\u001b[39;49m\u001b[38;5;241;43m.\u001b[39;49m\u001b[43miter_bytes\u001b[49m\u001b[43m(\u001b[49m\u001b[43m)\u001b[49m\u001b[43m)\u001b[49m\n\u001b[1;32m    816\u001b[0m \u001b[38;5;28;01mreturn\u001b[39;00m \u001b[38;5;28mself\u001b[39m\u001b[38;5;241m.\u001b[39m_content\n",
      "File \u001b[0;32m~/Library/Caches/pypoetry/virtualenvs/memoria-LKcHpmhp-py3.10/lib/python3.10/site-packages/httpx/_models.py:831\u001b[0m, in \u001b[0;36mResponse.iter_bytes\u001b[0;34m(self, chunk_size)\u001b[0m\n\u001b[1;32m    829\u001b[0m chunker \u001b[38;5;241m=\u001b[39m ByteChunker(chunk_size\u001b[38;5;241m=\u001b[39mchunk_size)\n\u001b[1;32m    830\u001b[0m \u001b[38;5;28;01mwith\u001b[39;00m request_context(request\u001b[38;5;241m=\u001b[39m\u001b[38;5;28mself\u001b[39m\u001b[38;5;241m.\u001b[39m_request):\n\u001b[0;32m--> 831\u001b[0m     \u001b[38;5;28;01mfor\u001b[39;00m raw_bytes \u001b[38;5;129;01min\u001b[39;00m \u001b[38;5;28mself\u001b[39m\u001b[38;5;241m.\u001b[39miter_raw():\n\u001b[1;32m    832\u001b[0m         decoded \u001b[38;5;241m=\u001b[39m decoder\u001b[38;5;241m.\u001b[39mdecode(raw_bytes)\n\u001b[1;32m    833\u001b[0m         \u001b[38;5;28;01mfor\u001b[39;00m chunk \u001b[38;5;129;01min\u001b[39;00m chunker\u001b[38;5;241m.\u001b[39mdecode(decoded):\n",
      "File \u001b[0;32m~/Library/Caches/pypoetry/virtualenvs/memoria-LKcHpmhp-py3.10/lib/python3.10/site-packages/httpx/_models.py:885\u001b[0m, in \u001b[0;36mResponse.iter_raw\u001b[0;34m(self, chunk_size)\u001b[0m\n\u001b[1;32m    882\u001b[0m chunker \u001b[38;5;241m=\u001b[39m ByteChunker(chunk_size\u001b[38;5;241m=\u001b[39mchunk_size)\n\u001b[1;32m    884\u001b[0m \u001b[38;5;28;01mwith\u001b[39;00m request_context(request\u001b[38;5;241m=\u001b[39m\u001b[38;5;28mself\u001b[39m\u001b[38;5;241m.\u001b[39m_request):\n\u001b[0;32m--> 885\u001b[0m     \u001b[38;5;28;01mfor\u001b[39;00m raw_stream_bytes \u001b[38;5;129;01min\u001b[39;00m \u001b[38;5;28mself\u001b[39m\u001b[38;5;241m.\u001b[39mstream:\n\u001b[1;32m    886\u001b[0m         \u001b[38;5;28mself\u001b[39m\u001b[38;5;241m.\u001b[39m_num_bytes_downloaded \u001b[38;5;241m+\u001b[39m\u001b[38;5;241m=\u001b[39m \u001b[38;5;28mlen\u001b[39m(raw_stream_bytes)\n\u001b[1;32m    887\u001b[0m         \u001b[38;5;28;01mfor\u001b[39;00m chunk \u001b[38;5;129;01min\u001b[39;00m chunker\u001b[38;5;241m.\u001b[39mdecode(raw_stream_bytes):\n",
      "File \u001b[0;32m~/Library/Caches/pypoetry/virtualenvs/memoria-LKcHpmhp-py3.10/lib/python3.10/site-packages/httpx/_client.py:127\u001b[0m, in \u001b[0;36mBoundSyncStream.__iter__\u001b[0;34m(self)\u001b[0m\n\u001b[1;32m    126\u001b[0m \u001b[38;5;28;01mdef\u001b[39;00m\u001b[38;5;250m \u001b[39m\u001b[38;5;21m__iter__\u001b[39m(\u001b[38;5;28mself\u001b[39m) \u001b[38;5;241m-\u001b[39m\u001b[38;5;241m>\u001b[39m typing\u001b[38;5;241m.\u001b[39mIterator[\u001b[38;5;28mbytes\u001b[39m]:\n\u001b[0;32m--> 127\u001b[0m     \u001b[38;5;28;01mfor\u001b[39;00m chunk \u001b[38;5;129;01min\u001b[39;00m \u001b[38;5;28mself\u001b[39m\u001b[38;5;241m.\u001b[39m_stream:\n\u001b[1;32m    128\u001b[0m         \u001b[38;5;28;01myield\u001b[39;00m chunk\n",
      "File \u001b[0;32m~/Library/Caches/pypoetry/virtualenvs/memoria-LKcHpmhp-py3.10/lib/python3.10/site-packages/httpx/_transports/default.py:116\u001b[0m, in \u001b[0;36mResponseStream.__iter__\u001b[0;34m(self)\u001b[0m\n\u001b[1;32m    114\u001b[0m \u001b[38;5;28;01mdef\u001b[39;00m\u001b[38;5;250m \u001b[39m\u001b[38;5;21m__iter__\u001b[39m(\u001b[38;5;28mself\u001b[39m) \u001b[38;5;241m-\u001b[39m\u001b[38;5;241m>\u001b[39m typing\u001b[38;5;241m.\u001b[39mIterator[\u001b[38;5;28mbytes\u001b[39m]:\n\u001b[1;32m    115\u001b[0m     \u001b[38;5;28;01mwith\u001b[39;00m map_httpcore_exceptions():\n\u001b[0;32m--> 116\u001b[0m         \u001b[38;5;28;01mfor\u001b[39;00m part \u001b[38;5;129;01min\u001b[39;00m \u001b[38;5;28mself\u001b[39m\u001b[38;5;241m.\u001b[39m_httpcore_stream:\n\u001b[1;32m    117\u001b[0m             \u001b[38;5;28;01myield\u001b[39;00m part\n",
      "File \u001b[0;32m~/Library/Caches/pypoetry/virtualenvs/memoria-LKcHpmhp-py3.10/lib/python3.10/site-packages/httpcore/_sync/connection_pool.py:407\u001b[0m, in \u001b[0;36mPoolByteStream.__iter__\u001b[0;34m(self)\u001b[0m\n\u001b[1;32m    405\u001b[0m \u001b[38;5;28;01mexcept\u001b[39;00m \u001b[38;5;167;01mBaseException\u001b[39;00m \u001b[38;5;28;01mas\u001b[39;00m exc:\n\u001b[1;32m    406\u001b[0m     \u001b[38;5;28mself\u001b[39m\u001b[38;5;241m.\u001b[39mclose()\n\u001b[0;32m--> 407\u001b[0m     \u001b[38;5;28;01mraise\u001b[39;00m exc \u001b[38;5;28;01mfrom\u001b[39;00m\u001b[38;5;250m \u001b[39m\u001b[38;5;28;01mNone\u001b[39;00m\n",
      "File \u001b[0;32m~/Library/Caches/pypoetry/virtualenvs/memoria-LKcHpmhp-py3.10/lib/python3.10/site-packages/httpcore/_sync/connection_pool.py:403\u001b[0m, in \u001b[0;36mPoolByteStream.__iter__\u001b[0;34m(self)\u001b[0m\n\u001b[1;32m    401\u001b[0m \u001b[38;5;28;01mdef\u001b[39;00m\u001b[38;5;250m \u001b[39m\u001b[38;5;21m__iter__\u001b[39m(\u001b[38;5;28mself\u001b[39m) \u001b[38;5;241m-\u001b[39m\u001b[38;5;241m>\u001b[39m typing\u001b[38;5;241m.\u001b[39mIterator[\u001b[38;5;28mbytes\u001b[39m]:\n\u001b[1;32m    402\u001b[0m     \u001b[38;5;28;01mtry\u001b[39;00m:\n\u001b[0;32m--> 403\u001b[0m         \u001b[38;5;28;01mfor\u001b[39;00m part \u001b[38;5;129;01min\u001b[39;00m \u001b[38;5;28mself\u001b[39m\u001b[38;5;241m.\u001b[39m_stream:\n\u001b[1;32m    404\u001b[0m             \u001b[38;5;28;01myield\u001b[39;00m part\n\u001b[1;32m    405\u001b[0m     \u001b[38;5;28;01mexcept\u001b[39;00m \u001b[38;5;167;01mBaseException\u001b[39;00m \u001b[38;5;28;01mas\u001b[39;00m exc:\n",
      "File \u001b[0;32m~/Library/Caches/pypoetry/virtualenvs/memoria-LKcHpmhp-py3.10/lib/python3.10/site-packages/httpcore/_sync/http11.py:342\u001b[0m, in \u001b[0;36mHTTP11ConnectionByteStream.__iter__\u001b[0;34m(self)\u001b[0m\n\u001b[1;32m    340\u001b[0m \u001b[38;5;28;01mwith\u001b[39;00m ShieldCancellation():\n\u001b[1;32m    341\u001b[0m     \u001b[38;5;28mself\u001b[39m\u001b[38;5;241m.\u001b[39mclose()\n\u001b[0;32m--> 342\u001b[0m \u001b[38;5;28;01mraise\u001b[39;00m exc\n",
      "File \u001b[0;32m~/Library/Caches/pypoetry/virtualenvs/memoria-LKcHpmhp-py3.10/lib/python3.10/site-packages/httpcore/_sync/http11.py:334\u001b[0m, in \u001b[0;36mHTTP11ConnectionByteStream.__iter__\u001b[0;34m(self)\u001b[0m\n\u001b[1;32m    332\u001b[0m \u001b[38;5;28;01mtry\u001b[39;00m:\n\u001b[1;32m    333\u001b[0m     \u001b[38;5;28;01mwith\u001b[39;00m Trace(\u001b[38;5;124m\"\u001b[39m\u001b[38;5;124mreceive_response_body\u001b[39m\u001b[38;5;124m\"\u001b[39m, logger, \u001b[38;5;28mself\u001b[39m\u001b[38;5;241m.\u001b[39m_request, kwargs):\n\u001b[0;32m--> 334\u001b[0m         \u001b[38;5;28;01mfor\u001b[39;00m chunk \u001b[38;5;129;01min\u001b[39;00m \u001b[38;5;28mself\u001b[39m\u001b[38;5;241m.\u001b[39m_connection\u001b[38;5;241m.\u001b[39m_receive_response_body(\u001b[38;5;241m*\u001b[39m\u001b[38;5;241m*\u001b[39mkwargs):\n\u001b[1;32m    335\u001b[0m             \u001b[38;5;28;01myield\u001b[39;00m chunk\n\u001b[1;32m    336\u001b[0m \u001b[38;5;28;01mexcept\u001b[39;00m \u001b[38;5;167;01mBaseException\u001b[39;00m \u001b[38;5;28;01mas\u001b[39;00m exc:\n\u001b[1;32m    337\u001b[0m     \u001b[38;5;66;03m# If we get an exception while streaming the response,\u001b[39;00m\n\u001b[1;32m    338\u001b[0m     \u001b[38;5;66;03m# we want to close the response (and possibly the connection)\u001b[39;00m\n\u001b[1;32m    339\u001b[0m     \u001b[38;5;66;03m# before raising that exception.\u001b[39;00m\n",
      "File \u001b[0;32m~/Library/Caches/pypoetry/virtualenvs/memoria-LKcHpmhp-py3.10/lib/python3.10/site-packages/httpcore/_sync/http11.py:203\u001b[0m, in \u001b[0;36mHTTP11Connection._receive_response_body\u001b[0;34m(self, request)\u001b[0m\n\u001b[1;32m    200\u001b[0m timeout \u001b[38;5;241m=\u001b[39m timeouts\u001b[38;5;241m.\u001b[39mget(\u001b[38;5;124m\"\u001b[39m\u001b[38;5;124mread\u001b[39m\u001b[38;5;124m\"\u001b[39m, \u001b[38;5;28;01mNone\u001b[39;00m)\n\u001b[1;32m    202\u001b[0m \u001b[38;5;28;01mwhile\u001b[39;00m \u001b[38;5;28;01mTrue\u001b[39;00m:\n\u001b[0;32m--> 203\u001b[0m     event \u001b[38;5;241m=\u001b[39m \u001b[38;5;28;43mself\u001b[39;49m\u001b[38;5;241;43m.\u001b[39;49m\u001b[43m_receive_event\u001b[49m\u001b[43m(\u001b[49m\u001b[43mtimeout\u001b[49m\u001b[38;5;241;43m=\u001b[39;49m\u001b[43mtimeout\u001b[49m\u001b[43m)\u001b[49m\n\u001b[1;32m    204\u001b[0m     \u001b[38;5;28;01mif\u001b[39;00m \u001b[38;5;28misinstance\u001b[39m(event, h11\u001b[38;5;241m.\u001b[39mData):\n\u001b[1;32m    205\u001b[0m         \u001b[38;5;28;01myield\u001b[39;00m \u001b[38;5;28mbytes\u001b[39m(event\u001b[38;5;241m.\u001b[39mdata)\n",
      "File \u001b[0;32m~/Library/Caches/pypoetry/virtualenvs/memoria-LKcHpmhp-py3.10/lib/python3.10/site-packages/httpcore/_sync/http11.py:217\u001b[0m, in \u001b[0;36mHTTP11Connection._receive_event\u001b[0;34m(self, timeout)\u001b[0m\n\u001b[1;32m    214\u001b[0m     event \u001b[38;5;241m=\u001b[39m \u001b[38;5;28mself\u001b[39m\u001b[38;5;241m.\u001b[39m_h11_state\u001b[38;5;241m.\u001b[39mnext_event()\n\u001b[1;32m    216\u001b[0m \u001b[38;5;28;01mif\u001b[39;00m event \u001b[38;5;129;01mis\u001b[39;00m h11\u001b[38;5;241m.\u001b[39mNEED_DATA:\n\u001b[0;32m--> 217\u001b[0m     data \u001b[38;5;241m=\u001b[39m \u001b[38;5;28;43mself\u001b[39;49m\u001b[38;5;241;43m.\u001b[39;49m\u001b[43m_network_stream\u001b[49m\u001b[38;5;241;43m.\u001b[39;49m\u001b[43mread\u001b[49m\u001b[43m(\u001b[49m\n\u001b[1;32m    218\u001b[0m \u001b[43m        \u001b[49m\u001b[38;5;28;43mself\u001b[39;49m\u001b[38;5;241;43m.\u001b[39;49m\u001b[43mREAD_NUM_BYTES\u001b[49m\u001b[43m,\u001b[49m\u001b[43m \u001b[49m\u001b[43mtimeout\u001b[49m\u001b[38;5;241;43m=\u001b[39;49m\u001b[43mtimeout\u001b[49m\n\u001b[1;32m    219\u001b[0m \u001b[43m    \u001b[49m\u001b[43m)\u001b[49m\n\u001b[1;32m    221\u001b[0m     \u001b[38;5;66;03m# If we feed this case through h11 we'll raise an exception like:\u001b[39;00m\n\u001b[1;32m    222\u001b[0m     \u001b[38;5;66;03m#\u001b[39;00m\n\u001b[1;32m    223\u001b[0m     \u001b[38;5;66;03m#     httpcore.RemoteProtocolError: can't handle event type\u001b[39;00m\n\u001b[0;32m   (...)\u001b[0m\n\u001b[1;32m    227\u001b[0m     \u001b[38;5;66;03m# perspective. Instead we handle this case distinctly and treat\u001b[39;00m\n\u001b[1;32m    228\u001b[0m     \u001b[38;5;66;03m# it as a ConnectError.\u001b[39;00m\n\u001b[1;32m    229\u001b[0m     \u001b[38;5;28;01mif\u001b[39;00m data \u001b[38;5;241m==\u001b[39m \u001b[38;5;124mb\u001b[39m\u001b[38;5;124m\"\u001b[39m\u001b[38;5;124m\"\u001b[39m \u001b[38;5;129;01mand\u001b[39;00m \u001b[38;5;28mself\u001b[39m\u001b[38;5;241m.\u001b[39m_h11_state\u001b[38;5;241m.\u001b[39mtheir_state \u001b[38;5;241m==\u001b[39m h11\u001b[38;5;241m.\u001b[39mSEND_RESPONSE:\n",
      "File \u001b[0;32m~/Library/Caches/pypoetry/virtualenvs/memoria-LKcHpmhp-py3.10/lib/python3.10/site-packages/httpcore/_backends/sync.py:128\u001b[0m, in \u001b[0;36mSyncStream.read\u001b[0;34m(self, max_bytes, timeout)\u001b[0m\n\u001b[1;32m    126\u001b[0m \u001b[38;5;28;01mwith\u001b[39;00m map_exceptions(exc_map):\n\u001b[1;32m    127\u001b[0m     \u001b[38;5;28mself\u001b[39m\u001b[38;5;241m.\u001b[39m_sock\u001b[38;5;241m.\u001b[39msettimeout(timeout)\n\u001b[0;32m--> 128\u001b[0m     \u001b[38;5;28;01mreturn\u001b[39;00m \u001b[38;5;28;43mself\u001b[39;49m\u001b[38;5;241;43m.\u001b[39;49m\u001b[43m_sock\u001b[49m\u001b[38;5;241;43m.\u001b[39;49m\u001b[43mrecv\u001b[49m\u001b[43m(\u001b[49m\u001b[43mmax_bytes\u001b[49m\u001b[43m)\u001b[49m\n",
      "File \u001b[0;32m~/miniconda3/lib/python3.10/ssl.py:1259\u001b[0m, in \u001b[0;36mSSLSocket.recv\u001b[0;34m(self, buflen, flags)\u001b[0m\n\u001b[1;32m   1255\u001b[0m     \u001b[38;5;28;01mif\u001b[39;00m flags \u001b[38;5;241m!=\u001b[39m \u001b[38;5;241m0\u001b[39m:\n\u001b[1;32m   1256\u001b[0m         \u001b[38;5;28;01mraise\u001b[39;00m \u001b[38;5;167;01mValueError\u001b[39;00m(\n\u001b[1;32m   1257\u001b[0m             \u001b[38;5;124m\"\u001b[39m\u001b[38;5;124mnon-zero flags not allowed in calls to recv() on \u001b[39m\u001b[38;5;132;01m%s\u001b[39;00m\u001b[38;5;124m\"\u001b[39m \u001b[38;5;241m%\u001b[39m\n\u001b[1;32m   1258\u001b[0m             \u001b[38;5;28mself\u001b[39m\u001b[38;5;241m.\u001b[39m\u001b[38;5;18m__class__\u001b[39m)\n\u001b[0;32m-> 1259\u001b[0m     \u001b[38;5;28;01mreturn\u001b[39;00m \u001b[38;5;28;43mself\u001b[39;49m\u001b[38;5;241;43m.\u001b[39;49m\u001b[43mread\u001b[49m\u001b[43m(\u001b[49m\u001b[43mbuflen\u001b[49m\u001b[43m)\u001b[49m\n\u001b[1;32m   1260\u001b[0m \u001b[38;5;28;01melse\u001b[39;00m:\n\u001b[1;32m   1261\u001b[0m     \u001b[38;5;28;01mreturn\u001b[39;00m \u001b[38;5;28msuper\u001b[39m()\u001b[38;5;241m.\u001b[39mrecv(buflen, flags)\n",
      "File \u001b[0;32m~/miniconda3/lib/python3.10/ssl.py:1132\u001b[0m, in \u001b[0;36mSSLSocket.read\u001b[0;34m(self, len, buffer)\u001b[0m\n\u001b[1;32m   1130\u001b[0m         \u001b[38;5;28;01mreturn\u001b[39;00m \u001b[38;5;28mself\u001b[39m\u001b[38;5;241m.\u001b[39m_sslobj\u001b[38;5;241m.\u001b[39mread(\u001b[38;5;28mlen\u001b[39m, buffer)\n\u001b[1;32m   1131\u001b[0m     \u001b[38;5;28;01melse\u001b[39;00m:\n\u001b[0;32m-> 1132\u001b[0m         \u001b[38;5;28;01mreturn\u001b[39;00m \u001b[38;5;28;43mself\u001b[39;49m\u001b[38;5;241;43m.\u001b[39;49m\u001b[43m_sslobj\u001b[49m\u001b[38;5;241;43m.\u001b[39;49m\u001b[43mread\u001b[49m\u001b[43m(\u001b[49m\u001b[38;5;28;43mlen\u001b[39;49m\u001b[43m)\u001b[49m\n\u001b[1;32m   1133\u001b[0m \u001b[38;5;28;01mexcept\u001b[39;00m SSLError \u001b[38;5;28;01mas\u001b[39;00m x:\n\u001b[1;32m   1134\u001b[0m     \u001b[38;5;28;01mif\u001b[39;00m x\u001b[38;5;241m.\u001b[39margs[\u001b[38;5;241m0\u001b[39m] \u001b[38;5;241m==\u001b[39m SSL_ERROR_EOF \u001b[38;5;129;01mand\u001b[39;00m \u001b[38;5;28mself\u001b[39m\u001b[38;5;241m.\u001b[39msuppress_ragged_eofs:\n",
      "\u001b[0;31mKeyboardInterrupt\u001b[0m: "
     ]
    }
   ],
   "source": [
    "deep = \"openrouter/deepseek/deepseek-r1\"\n",
    "res_deep = parse.parse_noticia(markdown=markdwon, model=deep)\n",
    "print(res_deep.model_dump())"
   ]
  },
  {
   "cell_type": "code",
   "execution_count": null,
   "metadata": {},
   "outputs": [],
   "source": [
    "# pretty print\n",
    "def pretty_print_articulo(obj):\n",
    "    print(f\"Titulo: {obj.titulo}\")\n",
    "    print(f\"Fuente: {obj.fuente}\")\n",
    "    print(f\"Categoria: {obj.categoria}\")\n",
    "    print(f\"Resumen: {obj.resumen}\")\n",
    "    print(f\"Cantidad de entidades: {len(obj.entidades)}\")\n",
    "    for entidad in obj.entidades:\n",
    "        print(f\"Entidad: {entidad}\")"
   ]
  },
  {
   "cell_type": "code",
   "execution_count": 34,
   "metadata": {},
   "outputs": [
    {
     "name": "stdout",
     "output_type": "stream",
     "text": [
      "Titulo: Gobierno electo le ofreció 34 cargos a la oposición y la coalición se reunirá para hacer una contrapropuesta\n",
      "Fuente: la diaria\n",
      "Categoria: politica\n",
      "Resumen: El gobierno electo ofreció 34 cargos a la oposición en una reunión en la sede de la transición de gobierno. Los representantes de los partidos de la oposición asistieron y discutieron la propuesta. La oposición se reunirá para hacer una contrapropuesta.\n",
      "Cantidad de entidades: 35\n",
      "Entidad: nombre='Alejandro Sánchez' tipo='persona' sentimiento='neutral'\n",
      "Entidad: nombre='Jorge Díaz' tipo='persona' sentimiento='neutral'\n",
      "Entidad: nombre='Álvaro Delgado' tipo='persona' sentimiento='neutral'\n",
      "Entidad: nombre='Andrés Ojeda' tipo='persona' sentimiento='neutral'\n",
      "Entidad: nombre='Guido Manini Ríos' tipo='persona' sentimiento='neutral'\n",
      "Entidad: nombre='Pablo Mieres' tipo='persona' sentimiento='neutral'\n",
      "Entidad: nombre='Gustavo Salle' tipo='persona' sentimiento='neutral'\n",
      "Entidad: nombre='Partido Nacional' tipo='organizacion' sentimiento='neutral'\n",
      "Entidad: nombre='Partido Colorado' tipo='organizacion' sentimiento='neutral'\n",
      "Entidad: nombre='Cabildo Abierto' tipo='organizacion' sentimiento='neutral'\n",
      "Entidad: nombre='Partido Independiente' tipo='organizacion' sentimiento='neutral'\n",
      "Entidad: nombre='Identidad Soberana' tipo='organizacion' sentimiento='neutral'\n",
      "Entidad: nombre='Corte Electoral' tipo='organizacion' sentimiento='neutral'\n",
      "Entidad: nombre='Tribunal de Cuentas' tipo='organizacion' sentimiento='neutral'\n",
      "Entidad: nombre='UTE' tipo='organizacion' sentimiento='neutral'\n",
      "Entidad: nombre='Ancap' tipo='organizacion' sentimiento='neutral'\n",
      "Entidad: nombre='Antel' tipo='organizacion' sentimiento='neutral'\n",
      "Entidad: nombre='OSE' tipo='organizacion' sentimiento='neutral'\n",
      "Entidad: nombre='AFE' tipo='organizacion' sentimiento='neutral'\n",
      "Entidad: nombre='Administración Nacional de Correos' tipo='organizacion' sentimiento='neutral'\n",
      "Entidad: nombre='Instituto Nacional de Colonización' tipo='organizacion' sentimiento='neutral'\n",
      "Entidad: nombre='Banco Central del Uruguay' tipo='organizacion' sentimiento='neutral'\n",
      "Entidad: nombre='Banco República' tipo='organizacion' sentimiento='neutral'\n",
      "Entidad: nombre='Banco de Seguros' tipo='organizacion' sentimiento='neutral'\n",
      "Entidad: nombre='Administración Nacional de Puertos' tipo='organizacion' sentimiento='neutral'\n",
      "Entidad: nombre='Agencia Nacional de Vivienda' tipo='organizacion' sentimiento='neutral'\n",
      "Entidad: nombre='Banco Hipotecario' tipo='organizacion' sentimiento='neutral'\n",
      "Entidad: nombre='Instituto Nacional de Inclusión Social Adolescente' tipo='organizacion' sentimiento='neutral'\n",
      "Entidad: nombre='Unidad Reguladora de Servicios de Energía y Agua' tipo='organizacion' sentimiento='neutral'\n",
      "Entidad: nombre='Unidad Reguladora de Servicios de Comunicaciones' tipo='organizacion' sentimiento='neutral'\n",
      "Entidad: nombre='Corporación Nacional para el Desarrollo' tipo='organizacion' sentimiento='neutral'\n",
      "Entidad: nombre='Instituto Nacional de Evaluación Educativa' tipo='organizacion' sentimiento='neutral'\n",
      "Entidad: nombre='Comisión Técnica Mixta del Frente Marítimo' tipo='organizacion' sentimiento='neutral'\n",
      "Entidad: nombre='Comisión Administradora del Río de la Plata' tipo='organizacion' sentimiento='neutral'\n",
      "Entidad: nombre='Junta de Transparencia y Ética Pública' tipo='organizacion' sentimiento='neutral'\n"
     ]
    }
   ],
   "source": [
    "pretty_print_articulo(res_flash)"
   ]
  },
  {
   "cell_type": "code",
   "execution_count": 21,
   "metadata": {},
   "outputs": [
    {
     "name": "stdout",
     "output_type": "stream",
     "text": [
      "Titulo: Gobierno electo le ofreció 34 cargos a la oposición y la coalición se reunirá para hacer una contrapropuesta\n",
      "Fuente: la diaria\n",
      "Categoria: None\n",
      "Resumen: El senador blanco Álvaro Delgado adelantó que plantearán “diferentes responsabilidades, que no están consideradas hoy”, así como “algunos enfoques diferentes”\n",
      "Cantidad de entidades: 11\n",
      "Entidad: nombre='Álvaro Delgado' tipo='persona' sentimiento='neutral'\n",
      "Entidad: nombre='Alejandro Sánchez' tipo='persona' sentimiento='neutral'\n",
      "Entidad: nombre='Jorge Díaz' tipo='persona' sentimiento='neutral'\n",
      "Entidad: nombre='Andrés Ojeda' tipo='persona' sentimiento='neutral'\n",
      "Entidad: nombre='Guido Manini Ríos' tipo='persona' sentimiento='neutral'\n",
      "Entidad: nombre='Pablo Mieres' tipo='persona' sentimiento='neutral'\n",
      "Entidad: nombre='Gustavo Salle' tipo='persona' sentimiento='neutral'\n",
      "Entidad: nombre='Partido Nacional' tipo='organizacion' sentimiento='neutral'\n",
      "Entidad: nombre='Partido Colorado' tipo='organizacion' sentimiento='neutral'\n",
      "Entidad: nombre='Cabildo Abierto' tipo='organizacion' sentimiento='neutral'\n",
      "Entidad: nombre='Partido Independiente' tipo='organizacion' sentimiento='neutral'\n"
     ]
    }
   ],
   "source": [
    "pretty_print_articulo(res_o3)"
   ]
  }
 ],
 "metadata": {
  "kernelspec": {
   "display_name": "memoria-LKcHpmhp-py3.10",
   "language": "python",
   "name": "python3"
  },
  "language_info": {
   "codemirror_mode": {
    "name": "ipython",
    "version": 3
   },
   "file_extension": ".py",
   "mimetype": "text/x-python",
   "name": "python",
   "nbconvert_exporter": "python",
   "pygments_lexer": "ipython3",
   "version": "3.10.8"
  }
 },
 "nbformat": 4,
 "nbformat_minor": 2
}
